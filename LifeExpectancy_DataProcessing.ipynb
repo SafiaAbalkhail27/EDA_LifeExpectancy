{
 "cells": [
  {
   "cell_type": "markdown",
   "id": "d40bc617-22d4-4ead-95c8-5d08dfaa5ff6",
   "metadata": {
    "jp-MarkdownHeadingCollapsed": true,
    "tags": []
   },
   "source": [
    "# Life Expectancy (WHO)\n",
    "#### - Statistical Analysis on factors influencing Life Expectancy -"
   ]
  },
  {
   "cell_type": "markdown",
   "id": "1c0b8717-e47f-4987-bf93-e56ddba3f695",
   "metadata": {},
   "source": [
    "### Brief Summary of Life Expectancy Dataset\n",
    "\n",
    "#### Key Points:\n",
    "- **Period Covered**: 2000-2015\n",
    "- **Number of Countries**: 193\n",
    "- **Total Rows**: 2938\n",
    "- **Total Columns**: 22\n",
    "\n",
    "#### Important Variables:\n",
    "1. **Country**: Name of the country\n",
    "2. **Year**: Year of the data\n",
    "3. **Status**: Developed or Developing\n",
    "4. **Life expectancy**: Average life expectancy in years\n",
    "5. **Adult Mortality**: Probability of dying between 15 and 60 years per 1000 population\n",
    "6. **Infant Deaths**: Number of infant deaths per 1000 population\n",
    "7. **Alcohol**: Per capita alcohol consumption (liters)\n",
    "8. **Percentage Expenditure**: Health expenditure as a percentage of GDP per capita\n",
    "9. **Hepatitis B**: Immunization coverage among 1-year-olds (%)\n",
    "10. **Measles**: Number of reported cases per 1000 population\n",
    "11. **BMI**: Average body mass index of the population\n",
    "12. **Under-five Deaths**: Number of deaths under five years per 1000 population\n",
    "13. **Polio**: Immunization coverage among 1-year-olds (%)\n",
    "14. **Total Expenditure**: Government health expenditure as a percentage of total government expenditure\n",
    "15. **Diphtheria**: Immunization coverage among 1-year-olds (%)\n",
    "16. **HIV/AIDS**: Deaths per 1000 live births due to HIV/AIDS (0-4 years)\n",
    "17. **GDP**: Gross domestic product per capita (USD)\n",
    "18. **Population**: Total population\n",
    "19. **Thinness 1-19 Years**: Prevalence of thinness among children and adolescents (10-19 years)\n",
    "20. **Thinness 5-9 Years**: Prevalence of thinness among children (5-9 years)\n",
    "21. **Income Composition of Resources**: Human Development Index related to income composition (0-1)\n",
    "22. **Schooling**: Average number of years of schooling\n",
    "\n",
    "#### Notable Data Handling:\n",
    "- **Missing Data**: Mainly for population, Hepatitis B, and GDP from lesser-known countries (e.g., Vanuatu, Tonga).\n",
    "- **Excluded Countries**: Countries with significant missing data were excluded from the final dataset.\n",
    "\n",
    "#### Study Objectives:\n",
    "- Determine which factors significantly affect life expectancy.\n",
    "- Assess the impact of healthcare expenditure on life expectancy in countries with lower values (<65 years).\n",
    "- Analyze the effects of infant and adult mortality rates, lifestyle choices, schooling, population density, and immunization coverage on life expectancy.\n",
    "\n",
    "This dataset provides a comprehensive basis for understanding the determinants of life expectancy and supports the development of targeted health policies and interventions."
   ]
  },
  {
   "cell_type": "markdown",
   "id": "dc33fe69-eb1d-4a68-8a0b-7fbc2c8ea1b5",
   "metadata": {
    "jp-MarkdownHeadingCollapsed": true,
    "tags": []
   },
   "source": [
    "# Importing Libraries and Loading data"
   ]
  },
  {
   "cell_type": "code",
   "execution_count": 430,
   "id": "03f90596-7895-42e7-8cef-f52c66be91ad",
   "metadata": {},
   "outputs": [],
   "source": [
    "import pandas as pd\n",
    "import numpy as np\n",
    "import seaborn as sns\n",
    "import matplotlib.pyplot as plt"
   ]
  },
  {
   "cell_type": "code",
   "execution_count": 500,
   "id": "4055a02c-d8f4-4ba4-ab09-0ada079f3799",
   "metadata": {},
   "outputs": [
    {
     "data": {
      "text/html": [
       "<div>\n",
       "<style scoped>\n",
       "    .dataframe tbody tr th:only-of-type {\n",
       "        vertical-align: middle;\n",
       "    }\n",
       "\n",
       "    .dataframe tbody tr th {\n",
       "        vertical-align: top;\n",
       "    }\n",
       "\n",
       "    .dataframe thead th {\n",
       "        text-align: right;\n",
       "    }\n",
       "</style>\n",
       "<table border=\"1\" class=\"dataframe\">\n",
       "  <thead>\n",
       "    <tr style=\"text-align: right;\">\n",
       "      <th></th>\n",
       "      <th>Country</th>\n",
       "      <th>Year</th>\n",
       "      <th>Status</th>\n",
       "      <th>Life expectancy</th>\n",
       "      <th>Adult Mortality</th>\n",
       "      <th>infant deaths</th>\n",
       "      <th>Alcohol</th>\n",
       "      <th>percentage expenditure</th>\n",
       "      <th>Hepatitis B</th>\n",
       "      <th>Measles</th>\n",
       "      <th>...</th>\n",
       "      <th>Polio</th>\n",
       "      <th>Total expenditure</th>\n",
       "      <th>Diphtheria</th>\n",
       "      <th>HIV/AIDS</th>\n",
       "      <th>GDP</th>\n",
       "      <th>Population</th>\n",
       "      <th>thinness  1-19 years</th>\n",
       "      <th>thinness 5-9 years</th>\n",
       "      <th>Income composition of resources</th>\n",
       "      <th>Schooling</th>\n",
       "    </tr>\n",
       "  </thead>\n",
       "  <tbody>\n",
       "    <tr>\n",
       "      <th>0</th>\n",
       "      <td>Afghanistan</td>\n",
       "      <td>2015</td>\n",
       "      <td>Developing</td>\n",
       "      <td>65.0</td>\n",
       "      <td>263.0</td>\n",
       "      <td>62</td>\n",
       "      <td>0.01</td>\n",
       "      <td>71.279624</td>\n",
       "      <td>65.0</td>\n",
       "      <td>1154</td>\n",
       "      <td>...</td>\n",
       "      <td>6.0</td>\n",
       "      <td>8.16</td>\n",
       "      <td>65.0</td>\n",
       "      <td>0.1</td>\n",
       "      <td>584.259210</td>\n",
       "      <td>33736494.0</td>\n",
       "      <td>17.2</td>\n",
       "      <td>17.3</td>\n",
       "      <td>0.479</td>\n",
       "      <td>10.1</td>\n",
       "    </tr>\n",
       "    <tr>\n",
       "      <th>1</th>\n",
       "      <td>Afghanistan</td>\n",
       "      <td>2014</td>\n",
       "      <td>Developing</td>\n",
       "      <td>59.9</td>\n",
       "      <td>271.0</td>\n",
       "      <td>64</td>\n",
       "      <td>0.01</td>\n",
       "      <td>73.523582</td>\n",
       "      <td>62.0</td>\n",
       "      <td>492</td>\n",
       "      <td>...</td>\n",
       "      <td>58.0</td>\n",
       "      <td>8.18</td>\n",
       "      <td>62.0</td>\n",
       "      <td>0.1</td>\n",
       "      <td>612.696514</td>\n",
       "      <td>327582.0</td>\n",
       "      <td>17.5</td>\n",
       "      <td>17.5</td>\n",
       "      <td>0.476</td>\n",
       "      <td>10.0</td>\n",
       "    </tr>\n",
       "    <tr>\n",
       "      <th>2</th>\n",
       "      <td>Afghanistan</td>\n",
       "      <td>2013</td>\n",
       "      <td>Developing</td>\n",
       "      <td>59.9</td>\n",
       "      <td>268.0</td>\n",
       "      <td>66</td>\n",
       "      <td>0.01</td>\n",
       "      <td>73.219243</td>\n",
       "      <td>64.0</td>\n",
       "      <td>430</td>\n",
       "      <td>...</td>\n",
       "      <td>62.0</td>\n",
       "      <td>8.13</td>\n",
       "      <td>64.0</td>\n",
       "      <td>0.1</td>\n",
       "      <td>631.744976</td>\n",
       "      <td>31731688.0</td>\n",
       "      <td>17.7</td>\n",
       "      <td>17.7</td>\n",
       "      <td>0.470</td>\n",
       "      <td>9.9</td>\n",
       "    </tr>\n",
       "    <tr>\n",
       "      <th>3</th>\n",
       "      <td>Afghanistan</td>\n",
       "      <td>2012</td>\n",
       "      <td>Developing</td>\n",
       "      <td>59.5</td>\n",
       "      <td>272.0</td>\n",
       "      <td>69</td>\n",
       "      <td>0.01</td>\n",
       "      <td>78.184215</td>\n",
       "      <td>67.0</td>\n",
       "      <td>2787</td>\n",
       "      <td>...</td>\n",
       "      <td>67.0</td>\n",
       "      <td>8.52</td>\n",
       "      <td>67.0</td>\n",
       "      <td>0.1</td>\n",
       "      <td>669.959000</td>\n",
       "      <td>3696958.0</td>\n",
       "      <td>17.9</td>\n",
       "      <td>18.0</td>\n",
       "      <td>0.463</td>\n",
       "      <td>9.8</td>\n",
       "    </tr>\n",
       "    <tr>\n",
       "      <th>4</th>\n",
       "      <td>Afghanistan</td>\n",
       "      <td>2011</td>\n",
       "      <td>Developing</td>\n",
       "      <td>59.2</td>\n",
       "      <td>275.0</td>\n",
       "      <td>71</td>\n",
       "      <td>0.01</td>\n",
       "      <td>7.097109</td>\n",
       "      <td>68.0</td>\n",
       "      <td>3013</td>\n",
       "      <td>...</td>\n",
       "      <td>68.0</td>\n",
       "      <td>7.87</td>\n",
       "      <td>68.0</td>\n",
       "      <td>0.1</td>\n",
       "      <td>63.537231</td>\n",
       "      <td>2978599.0</td>\n",
       "      <td>18.2</td>\n",
       "      <td>18.2</td>\n",
       "      <td>0.454</td>\n",
       "      <td>9.5</td>\n",
       "    </tr>\n",
       "  </tbody>\n",
       "</table>\n",
       "<p>5 rows × 22 columns</p>\n",
       "</div>"
      ],
      "text/plain": [
       "       Country  Year      Status  Life expectancy  Adult Mortality  \\\n",
       "0  Afghanistan  2015  Developing             65.0            263.0   \n",
       "1  Afghanistan  2014  Developing             59.9            271.0   \n",
       "2  Afghanistan  2013  Developing             59.9            268.0   \n",
       "3  Afghanistan  2012  Developing             59.5            272.0   \n",
       "4  Afghanistan  2011  Developing             59.2            275.0   \n",
       "\n",
       "   infant deaths  Alcohol  percentage expenditure  Hepatitis B  Measles  ...  \\\n",
       "0             62     0.01               71.279624         65.0     1154  ...   \n",
       "1             64     0.01               73.523582         62.0      492  ...   \n",
       "2             66     0.01               73.219243         64.0      430  ...   \n",
       "3             69     0.01               78.184215         67.0     2787  ...   \n",
       "4             71     0.01                7.097109         68.0     3013  ...   \n",
       "\n",
       "   Polio  Total expenditure  Diphtheria  HIV/AIDS         GDP  Population  \\\n",
       "0    6.0               8.16        65.0       0.1  584.259210  33736494.0   \n",
       "1   58.0               8.18        62.0       0.1  612.696514    327582.0   \n",
       "2   62.0               8.13        64.0       0.1  631.744976  31731688.0   \n",
       "3   67.0               8.52        67.0       0.1  669.959000   3696958.0   \n",
       "4   68.0               7.87        68.0       0.1   63.537231   2978599.0   \n",
       "\n",
       "   thinness  1-19 years  thinness 5-9 years  Income composition of resources  \\\n",
       "0                  17.2                17.3                            0.479   \n",
       "1                  17.5                17.5                            0.476   \n",
       "2                  17.7                17.7                            0.470   \n",
       "3                  17.9                18.0                            0.463   \n",
       "4                  18.2                18.2                            0.454   \n",
       "\n",
       "   Schooling  \n",
       "0       10.1  \n",
       "1       10.0  \n",
       "2        9.9  \n",
       "3        9.8  \n",
       "4        9.5  \n",
       "\n",
       "[5 rows x 22 columns]"
      ]
     },
     "execution_count": 500,
     "metadata": {},
     "output_type": "execute_result"
    }
   ],
   "source": [
    "data = pd.read_csv(\"Life Expectancy Data 2.csv\")\n",
    "data = data.rename(columns=lambda x: x.strip())\n",
    "data.head()"
   ]
  },
  {
   "cell_type": "markdown",
   "id": "9e771e6b-eaf1-4274-bceb-f07a7595aa3e",
   "metadata": {
    "jp-MarkdownHeadingCollapsed": true,
    "tags": []
   },
   "source": [
    "# Preprocessing Column: Country"
   ]
  },
  {
   "cell_type": "code",
   "execution_count": 501,
   "id": "ce79df64-85d8-44e3-ba52-cc868f95e961",
   "metadata": {},
   "outputs": [
    {
     "data": {
      "image/png": "[encoded data removed]",
      "text/plain": [
       "<Figure size 1000x4000 with 1 Axes>"
      ]
     },
     "metadata": {},
     "output_type": "display_data"
    }
   ],
   "source": [
    "# List of countries to be grouped into 'Oceania'\n",
    "oceania_countries = ['Cook Islands', 'Dominica', 'Marshall Islands', 'Monaco', 'Nauru', 'Niue', 'Palau', 'Saint Kitts and Nevis', 'San Marino', 'Tuvalu']\n",
    "\n",
    "# Group these countries into 'Oceania'\n",
    "data['Country'] = data['Country'].replace(oceania_countries, 'Oceania')\n",
    "\n",
    "# Verify the changes\n",
    "plt.figure(figsize=(10, 40))\n",
    "sns.countplot(y='Country', data=data, order=data['Country'].value_counts().index)\n",
    "plt.title('Frequency of Each Country in the Dataset')\n",
    "plt.xlabel('Frequency')\n",
    "plt.ylabel('Country')\n",
    "plt.show()"
   ]
  },
  {
   "cell_type": "markdown",
   "id": "d7d7aed1-1abc-4200-ac65-de51f5a926bf",
   "metadata": {
    "tags": []
   },
   "source": [
    "# Preprocessing Column: Life expectancy"
   ]
  },
  {
   "cell_type": "markdown",
   "id": "5bbb95bf-833e-4c26-9de2-403bed8ba036",
   "metadata": {
    "tags": []
   },
   "source": [
    "### Missing value treatment:"
   ]
  },
  {
   "cell_type": "code",
   "execution_count": 547,
   "id": "55282932-3993-48a9-9fde-67a775c9a983",
   "metadata": {},
   "outputs": [
    {
     "name": "stdout",
     "output_type": "stream",
     "text": [
      "Missing values in Alcohol column after filling: 10\n",
      "Missing values in Alcohol column after filling: 0\n"
     ]
    }
   ],
   "source": [
    "data['Life expectancy'] = data.groupby('Country')['Life expectancy'].transform(lambda x: x.fillna(x.mean()))\n",
    "\n",
    "# Verify the changes\n",
    "missing_values_alcohol = data['Life expectancy'].isnull().sum()\n",
    "print(f'Missing values in Alcohol column after filling: {missing_values_alcohol}')\n",
    "\n",
    "\n",
    "# Fill remaining missing values with the global mean alcohol consumption\n",
    "global_mean_alcohol = data['Life expectancy'].mean()\n",
    "data['Life expectancy'] = data['Life expectancy'].fillna(global_mean_alcohol)\n",
    "\n",
    "# Verify the changes\n",
    "missing_values_alcohol = data['Life expectancy'].isnull().sum()\n",
    "print(f'Missing values in Alcohol column after filling: {missing_values_alcohol}')"
   ]
  },
  {
   "cell_type": "markdown",
   "id": "fd62b5e9-7c73-46ab-a647-320f9f2ec673",
   "metadata": {
    "jp-MarkdownHeadingCollapsed": true,
    "tags": []
   },
   "source": [
    "### Outlier Treatment:"
   ]
  },
  {
   "cell_type": "code",
   "execution_count": 503,
   "id": "e1d0b10e-90df-4162-af8a-26b271b9b135",
   "metadata": {},
   "outputs": [
    {
     "name": "stdout",
     "output_type": "stream",
     "text": [
      "Identified Outliers:\n",
      "Country: Haiti, Index: 1127, Outlier: 36.3\n",
      "Country: Libya, Index: 1521, Outlier: 78.0\n",
      "\n",
      "After Outliers treatment:\n",
      "Country: Haiti, Index: 1127, Original Outlier: 36.3, New Value: 36.88758946395802\n",
      "Country: Libya, Index: 1521, Original Outlier: 78.0, New Value: 78.0\n"
     ]
    }
   ],
   "source": [
    "import pandas as pd\n",
    "from scipy.stats import zscore\n",
    "\n",
    "# Initialize a list to store the outliers\n",
    "outliers = []\n",
    "\n",
    "# Handle outliers on a country-by-country basis using Z-score\n",
    "threshold = 3.5  # Z-score threshold\n",
    "for country in data['Country'].unique():\n",
    "    country_data = data[data['Country'] == country]\n",
    "    \n",
    "    # Calculate Z-scores\n",
    "    z_scores = zscore(country_data['Life expectancy'].dropna())\n",
    "    \n",
    "    # Identify outliers within each country and print them\n",
    "    for idx, z in zip(country_data.index, z_scores):\n",
    "        if abs(z) > threshold:\n",
    "            outliers.append((country, idx, country_data.at[idx, 'Life expectancy']))\n",
    "\n",
    "# Print all identified outliers\n",
    "print(\"Identified Outliers:\")\n",
    "for country, idx, outlier in outliers:\n",
    "    print(f\"Country: {country}, Index: {idx}, Outlier: {outlier}\")\n",
    "\n",
    "# Cap the outliers to the Z-score threshold\n",
    "for country in data['Country'].unique():\n",
    "    country_data = data[data['Country'] == country]\n",
    "    mean = country_data['Life expectancy'].mean()\n",
    "    std_dev = country_data['Life expectancy'].std()\n",
    "    \n",
    "    for country, idx, value in outliers:\n",
    "        if country == country_data['Country'].iloc[0]:\n",
    "            if (value - mean) / std_dev > threshold:\n",
    "                data.at[idx, 'Life expectancy'] = mean + threshold * std_dev\n",
    "            elif (value - mean) / std_dev < -threshold:\n",
    "                data.at[idx, 'Life expectancy'] = mean - threshold * std_dev\n",
    "\n",
    "# Verify the changes\n",
    "print(\"\\nAfter Outliers treatment:\")\n",
    "for country, idx, outlier in outliers:\n",
    "    new_value = data.at[idx, 'Life expectancy']\n",
    "    print(f\"Country: {country}, Index: {idx}, Original Outlier: {outlier}, New Value: {new_value}\")\n"
   ]
  },
  {
   "cell_type": "markdown",
   "id": "5a523024-652e-470b-8850-51d12d84a543",
   "metadata": {
    "tags": []
   },
   "source": [
    "# Preprocessing Column: Adult Mortality"
   ]
  },
  {
   "cell_type": "markdown",
   "id": "97b6b4c9-150c-491b-82cf-83eca0a2f254",
   "metadata": {
    "tags": []
   },
   "source": [
    "### Missing value treatment:"
   ]
  },
  {
   "cell_type": "code",
   "execution_count": 550,
   "id": "bd442c6b-9b30-42ad-88a0-e5391db38837",
   "metadata": {},
   "outputs": [
    {
     "name": "stdout",
     "output_type": "stream",
     "text": [
      "Missing values in Alcohol column after filling: 10\n",
      "Missing values in Alcohol column after filling: 0\n"
     ]
    }
   ],
   "source": [
    "# Identify countries with missing values in the 'Adult Mortality' column\n",
    "data['Adult Mortality'] = data.groupby('Country')['Adult Mortality'].transform(lambda x: x.fillna(x.mean()))\n",
    "\n",
    "# Verify the changes\n",
    "missing_values_alcohol = data['Adult Mortality'].isnull().sum()\n",
    "print(f'Missing values in Alcohol column after filling: {missing_values_alcohol}')\n",
    "\n",
    "\n",
    "# Fill remaining missing values with the global mean alcohol consumption\n",
    "global_mean_alcohol = data['Adult Mortality'].mean()\n",
    "data['Adult Mortality'] = data['Adult Mortality'].fillna(global_mean_alcohol)\n",
    "\n",
    "# Verify the changes\n",
    "missing_values_alcohol = data['Adult Mortality'].isnull().sum()\n",
    "print(f'Missing values in Alcohol column after filling: {missing_values_alcohol}')"
   ]
  },
  {
   "cell_type": "markdown",
   "id": "5609d322-33a1-4ea5-a442-c84157d2a40f",
   "metadata": {
    "jp-MarkdownHeadingCollapsed": true,
    "tags": []
   },
   "source": [
    "### Outlier treatment:"
   ]
  },
  {
   "cell_type": "code",
   "execution_count": 505,
   "id": "a9e593a1-cef1-42c0-afdd-592f1781112a",
   "metadata": {
    "scrolled": true,
    "tags": []
   },
   "outputs": [
    {
     "name": "stdout",
     "output_type": "stream",
     "text": [
      "Identified Outliers:\n",
      "Country: Afghanistan, Index: 13, Outlier: 3.0\n",
      "Country: Algeria, Index: 33, Outlier: 11.0\n",
      "Country: Algeria, Index: 43, Outlier: 14.0\n",
      "Country: Angola, Index: 62, Outlier: 44.0\n",
      "Country: Angola, Index: 63, Outlier: 48.0\n",
      "Country: Antigua and Barbuda, Index: 64, Outlier: 13.0\n",
      "Country: Antigua and Barbuda, Index: 70, Outlier: 14.0\n",
      "Country: Argentina, Index: 83, Outlier: 12.0\n",
      "Country: Argentina, Index: 84, Outlier: 12.0\n",
      "Country: Argentina, Index: 91, Outlier: 13.0\n",
      "Country: Armenia, Index: 97, Outlier: 12.0\n",
      "Country: Armenia, Index: 103, Outlier: 14.0\n",
      "Country: Australia, Index: 113, Outlier: 6.0\n",
      "Country: Austria, Index: 131, Outlier: 7.0\n",
      "Country: Azerbaijan, Index: 149, Outlier: 13.0\n",
      "Country: Azerbaijan, Index: 152, Outlier: 14.0\n",
      "Country: Bahamas, Index: 161, Outlier: 16.0\n",
      "Country: Bahamas, Index: 173, Outlier: 19.0\n",
      "Country: Bahrain, Index: 177, Outlier: 7.0\n",
      "Country: Bahrain, Index: 178, Outlier: 7.0\n",
      "Country: Bangladesh, Index: 196, Outlier: 14.0\n",
      "Country: Belarus, Index: 226, Outlier: 23.0\n",
      "Country: Belgium, Index: 254, Outlier: 1.0\n",
      "Country: Belize, Index: 258, Outlier: 18.0\n",
      "Country: Belize, Index: 268, Outlier: 21.0\n",
      "Country: Belize, Index: 270, Outlier: 21.0\n",
      "Country: Bhutan, Index: 302, Outlier: 29.0\n",
      "Country: Bolivia (Plurinational State of), Index: 309, Outlier: 22.0\n",
      "Country: Bolivia (Plurinational State of), Index: 316, Outlier: 23.0\n",
      "Country: Botswana, Index: 339, Outlier: 3.0\n",
      "Country: Brazil, Index: 363, Outlier: 17.0\n",
      "Country: Brunei Darussalam, Index: 376, Outlier: 1.0\n",
      "Country: Bulgaria, Index: 386, Outlier: 14.0\n",
      "Country: Bulgaria, Index: 394, Outlier: 16.0\n",
      "Country: Bulgaria, Index: 398, Outlier: 16.0\n",
      "Country: Burkina Faso, Index: 400, Outlier: 26.0\n",
      "Country: Burkina Faso, Index: 402, Outlier: 27.0\n",
      "Country: Burundi, Index: 418, Outlier: 33.0\n",
      "Country: Burundi, Index: 421, Outlier: 33.0\n",
      "Country: Burundi, Index: 423, Outlier: 35.0\n",
      "Country: Côte d'Ivoire, Index: 433, Outlier: 47.0\n",
      "Country: Cabo Verde, Index: 450, Outlier: 12.0\n",
      "Country: Cabo Verde, Index: 459, Outlier: 14.0\n",
      "Country: Cambodia, Index: 468, Outlier: 19.0\n",
      "Country: Cambodia, Index: 472, Outlier: 24.0\n",
      "Country: Canada, Index: 501, Outlier: 7.0\n",
      "Country: Canada, Index: 510, Outlier: 8.0\n",
      "Country: Colombia, Index: 581, Outlier: 15.0\n",
      "Country: Colombia, Index: 582, Outlier: 15.0\n",
      "Country: Colombia, Index: 588, Outlier: 15.0\n",
      "Country: Comoros, Index: 593, Outlier: 23.0\n",
      "Country: Congo, Index: 619, Outlier: 48.0\n",
      "Country: Cyprus, Index: 679, Outlier: 6.0\n",
      "Country: Cyprus, Index: 688, Outlier: 7.0\n",
      "Country: Democratic People's Republic of Korea, Index: 720, Outlier: 192.0\n",
      "Country: Democratic Republic of the Congo, Index: 730, Outlier: 36.0\n",
      "Country: Democratic Republic of the Congo, Index: 735, Outlier: 34.0\n",
      "Country: Djibouti, Index: 762, Outlier: 39.0\n",
      "Country: Dominican Republic, Index: 774, Outlier: 16.0\n",
      "Country: Dominican Republic, Index: 782, Outlier: 22.0\n",
      "Country: Ecuador, Index: 794, Outlier: 14.0\n",
      "Country: Equatorial Guinea, Index: 834, Outlier: 32.0\n",
      "Country: Equatorial Guinea, Index: 835, Outlier: 32.0\n",
      "Country: Equatorial Guinea, Index: 840, Outlier: 34.0\n",
      "Country: Eritrea, Index: 860, Outlier: 34.0\n",
      "Country: Eritrea, Index: 865, Outlier: 593.0\n",
      "Country: Ethiopia, Index: 890, Outlier: 39.0\n",
      "Country: France, Index: 943, Outlier: 11.0\n",
      "Country: France, Index: 944, Outlier: 13.0\n",
      "Country: France, Index: 945, Outlier: 13.0\n",
      "Country: Gambia, Index: 976, Outlier: 3.0\n",
      "Country: Gambia, Index: 977, Outlier: 33.0\n",
      "Country: Georgia, Index: 981, Outlier: 13.0\n",
      "Country: Georgia, Index: 986, Outlier: 12.0\n",
      "Country: Germany, Index: 1001, Outlier: 8.0\n",
      "Country: Germany, Index: 1006, Outlier: 9.0\n",
      "Country: Greece, Index: 1034, Outlier: 8.0\n",
      "Country: Grenada, Index: 1046, Outlier: 15.0\n",
      "Country: Guinea, Index: 1078, Outlier: 29.0\n",
      "Country: Guinea, Index: 1081, Outlier: 33.0\n",
      "Country: Guinea, Index: 1082, Outlier: 36.0\n",
      "Country: Guyana, Index: 1109, Outlier: 22.0\n",
      "Country: Guyana, Index: 1115, Outlier: 24.0\n",
      "Country: Haiti, Index: 1127, Outlier: 682.0\n",
      "Country: Honduras, Index: 1140, Outlier: 15.0\n",
      "Country: Honduras, Index: 1146, Outlier: 16.0\n",
      "Country: Hungary, Index: 1158, Outlier: 15.0\n",
      "Country: Hungary, Index: 1165, Outlier: 18.0\n",
      "Country: Iceland, Index: 1172, Outlier: 5.0\n",
      "Country: Iceland, Index: 1173, Outlier: 5.0\n",
      "Country: Indonesia, Index: 1210, Outlier: 19.0\n",
      "Country: Indonesia, Index: 1212, Outlier: 19.0\n",
      "Country: Iran (Islamic Republic of), Index: 1223, Outlier: 16.0\n",
      "Country: Iran (Islamic Republic of), Index: 1233, Outlier: 15.0\n",
      "Country: Ireland, Index: 1254, Outlier: 7.0\n",
      "Country: Israel, Index: 1267, Outlier: 6.0\n",
      "Country: Israel, Index: 1269, Outlier: 6.0\n",
      "Country: Italy, Index: 1285, Outlier: 6.0\n",
      "Country: Italy, Index: 1286, Outlier: 6.0\n",
      "Country: Italy, Index: 1287, Outlier: 6.0\n",
      "Country: Jamaica, Index: 1307, Outlier: 15.0\n",
      "Country: Japan, Index: 1326, Outlier: 7.0\n",
      "Country: Japan, Index: 1327, Outlier: 7.0\n",
      "Country: Jordan, Index: 1338, Outlier: 12.0\n",
      "Country: Kazakhstan, Index: 1347, Outlier: 22.0\n",
      "Country: Kazakhstan, Index: 1348, Outlier: 28.0\n",
      "Country: Kuwait, Index: 1404, Outlier: 9.0\n",
      "Country: Kyrgyzstan, Index: 1411, Outlier: 17.0\n",
      "Country: Kyrgyzstan, Index: 1413, Outlier: 18.0\n",
      "Country: Lao People's Democratic Republic, Index: 1428, Outlier: 23.0\n",
      "Country: Lao People's Democratic Republic, Index: 1435, Outlier: 24.0\n",
      "Country: Latvia, Index: 1447, Outlier: 18.0\n",
      "Country: Lesotho, Index: 1478, Outlier: 52.0\n",
      "Country: Liberia, Index: 1499, Outlier: 32.0\n",
      "Country: Libya, Index: 1510, Outlier: 161.0\n",
      "Country: Madagascar, Index: 1554, Outlier: 22.0\n",
      "Country: Madagascar, Index: 1556, Outlier: 23.0\n",
      "Country: Malaysia, Index: 1590, Outlier: 13.0\n",
      "Country: Malaysia, Index: 1599, Outlier: 14.0\n",
      "Country: Maldives, Index: 1613, Outlier: 16.0\n",
      "Country: Malta, Index: 1649, Outlier: 8.0\n",
      "Country: Mexico, Index: 1685, Outlier: 12.0\n",
      "Country: Mexico, Index: 1689, Outlier: 13.0\n",
      "Country: Micronesia (Federated States of), Index: 1711, Outlier: 18.0\n",
      "Country: Micronesia (Federated States of), Index: 1712, Outlier: 21.0\n",
      "Country: Mongolia, Index: 1721, Outlier: 25.0\n",
      "Country: Mongolia, Index: 1724, Outlier: 26.0\n",
      "Country: Namibia, Index: 1802, Outlier: 36.0\n",
      "Country: Netherlands, Index: 1831, Outlier: 6.0\n",
      "Country: Netherlands, Index: 1841, Outlier: 8.0\n",
      "Country: New Zealand, Index: 1848, Outlier: 7.0\n",
      "Country: Nicaragua, Index: 1870, Outlier: 17.0\n",
      "Country: Niger, Index: 1877, Outlier: 22.0\n",
      "Country: Niger, Index: 1889, Outlier: 28.0\n",
      "Country: Norway, Index: 1919, Outlier: 7.0\n",
      "Country: Pakistan, Index: 1952, Outlier: 2.0\n",
      "Country: Pakistan, Index: 1957, Outlier: 19.0\n",
      "Country: Panama, Index: 1962, Outlier: 12.0\n",
      "Country: Papua New Guinea, Index: 1982, Outlier: 29.0\n",
      "Country: Papua New Guinea, Index: 1985, Outlier: 37.0\n",
      "Country: Paraguay, Index: 1995, Outlier: 15.0\n",
      "Country: Paraguay, Index: 2005, Outlier: 17.0\n",
      "Country: Peru, Index: 2012, Outlier: 14.0\n",
      "Country: Peru, Index: 2013, Outlier: 14.0\n",
      "Country: Philippines, Index: 2023, Outlier: 211.0\n",
      "Country: Qatar, Index: 2073, Outlier: 7.0\n",
      "Country: Republic of Korea, Index: 2101, Outlier: 17.0\n",
      "Country: Russian Federation, Index: 2144, Outlier: 3.0\n",
      "Country: Saint Lucia, Index: 2178, Outlier: 16.0\n",
      "Country: Saint Vincent and the Grenadines, Index: 2188, Outlier: 16.0\n",
      "Country: Saint Vincent and the Grenadines, Index: 2192, Outlier: 17.0\n",
      "Country: Samoa, Index: 2210, Outlier: 16.0\n",
      "Country: Samoa, Index: 2215, Outlier: 18.0\n",
      "Country: Seychelles, Index: 2282, Outlier: 17.0\n",
      "Country: Seychelles, Index: 2286, Outlier: 18.0\n",
      "Country: Singapore, Index: 2317, Outlier: 6.0\n",
      "Country: Slovakia, Index: 2329, Outlier: 19.0\n",
      "Country: Slovakia, Index: 2337, Outlier: 14.0\n",
      "Country: Somalia, Index: 2385, Outlier: 34.0\n",
      "Country: South Africa, Index: 2396, Outlier: 48.0\n",
      "Country: South Sudan, Index: 2424, Outlier: 38.0\n",
      "Country: Spain, Index: 2427, Outlier: 6.0\n",
      "Country: Spain, Index: 2432, Outlier: 7.0\n",
      "Country: Sri Lanka, Index: 2455, Outlier: 16.0\n",
      "Country: Sudan, Index: 2466, Outlier: 26.0\n",
      "Country: Suriname, Index: 2478, Outlier: 19.0\n",
      "Country: Suriname, Index: 2481, Outlier: 22.0\n",
      "Country: Sweden, Index: 2516, Outlier: 7.0\n",
      "Country: Switzerland, Index: 2527, Outlier: 6.0\n",
      "Country: Switzerland, Index: 2528, Outlier: 6.0\n",
      "Country: Syrian Arab Republic, Index: 2537, Outlier: 293.0\n",
      "Country: Syrian Arab Republic, Index: 2538, Outlier: 294.0\n",
      "Country: Thailand, Index: 2575, Outlier: 16.0\n",
      "Country: Timor-Leste, Index: 2611, Outlier: 26.0\n",
      "Country: Timor-Leste, Index: 2613, Outlier: 25.0\n",
      "Country: Togo, Index: 2621, Outlier: 34.0\n",
      "Country: Tonga, Index: 2637, Outlier: 14.0\n",
      "Country: Tonga, Index: 2643, Outlier: 15.0\n",
      "Country: Trinidad and Tobago, Index: 2649, Outlier: 17.0\n",
      "Country: Trinidad and Tobago, Index: 2660, Outlier: 19.0\n",
      "Country: Tunisia, Index: 2680, Outlier: 112.0\n",
      "Country: Turkmenistan, Index: 2700, Outlier: 22.0\n",
      "Country: Ukraine, Index: 2731, Outlier: 23.0\n",
      "Country: United Kingdom of Great Britain and Northern Ireland, Index: 2769, Outlier: 8.0\n",
      "Country: United Kingdom of Great Britain and Northern Ireland, Index: 2770, Outlier: 8.0\n",
      "Country: Uruguay, Index: 2814, Outlier: 111.0\n",
      "Country: Uruguay, Index: 2825, Outlier: 131.0\n",
      "Country: Uzbekistan, Index: 2836, Outlier: 192.0\n",
      "Country: Vanuatu, Index: 2842, Outlier: 13.0\n",
      "Country: Vanuatu, Index: 2857, Outlier: 18.0\n",
      "Country: Viet Nam, Index: 2877, Outlier: 13.0\n",
      "Country: Yemen, Index: 2898, Outlier: 24.0\n",
      "Country: Yemen, Index: 2903, Outlier: 25.0\n",
      "\n",
      "After Outliers treatment:\n",
      "Country: Afghanistan, Index: 13, Original Outlier: 3.0, New Value: 123.54188290400222\n",
      "Country: Algeria, Index: 33, Original Outlier: 11.0, New Value: 12.559836638397357\n",
      "Country: Algeria, Index: 43, Original Outlier: 14.0, New Value: 14.0\n",
      "Country: Angola, Index: 62, Original Outlier: 44.0, New Value: 105.8615420616322\n",
      "Country: Angola, Index: 63, Original Outlier: 48.0, New Value: 105.8615420616322\n",
      "Country: Antigua and Barbuda, Index: 64, Original Outlier: 13.0, New Value: 37.15547424811322\n",
      "Country: Antigua and Barbuda, Index: 70, Original Outlier: 14.0, New Value: 37.15547424811322\n",
      "Country: Argentina, Index: 83, Original Outlier: 12.0, New Value: 12.0\n",
      "Country: Argentina, Index: 84, Original Outlier: 12.0, New Value: 12.0\n",
      "Country: Argentina, Index: 91, Original Outlier: 13.0, New Value: 13.0\n",
      "Country: Armenia, Index: 97, Original Outlier: 12.0, New Value: 34.69368409368414\n",
      "Country: Armenia, Index: 103, Original Outlier: 14.0, New Value: 34.69368409368414\n",
      "Country: Australia, Index: 113, Original Outlier: 6.0, New Value: 30.96147532014433\n",
      "Country: Austria, Index: 131, Original Outlier: 7.0, New Value: 7.0\n",
      "Country: Azerbaijan, Index: 149, Original Outlier: 13.0, New Value: 13.0\n",
      "Country: Azerbaijan, Index: 152, Original Outlier: 14.0, New Value: 14.0\n",
      "Country: Bahamas, Index: 161, Original Outlier: 16.0, New Value: 44.600956491015666\n",
      "Country: Bahamas, Index: 173, Original Outlier: 19.0, New Value: 44.600956491015666\n",
      "Country: Bahrain, Index: 177, Original Outlier: 7.0, New Value: 7.0\n",
      "Country: Bahrain, Index: 178, Original Outlier: 7.0, New Value: 7.0\n",
      "Country: Bangladesh, Index: 196, Original Outlier: 14.0, New Value: 68.64215551646102\n",
      "Country: Belarus, Index: 226, Original Outlier: 23.0, New Value: 105.92801632660415\n",
      "Country: Belgium, Index: 254, Original Outlier: 1.0, New Value: 5.618286489741621\n",
      "Country: Belize, Index: 258, Original Outlier: 18.0, New Value: 20.367472457590736\n",
      "Country: Belize, Index: 268, Original Outlier: 21.0, New Value: 21.0\n",
      "Country: Belize, Index: 270, Original Outlier: 21.0, New Value: 21.0\n",
      "Country: Bhutan, Index: 302, Original Outlier: 29.0, New Value: 109.79862668556521\n",
      "Country: Bolivia (Plurinational State of), Index: 309, Original Outlier: 22.0, New Value: 22.0\n",
      "Country: Bolivia (Plurinational State of), Index: 316, Original Outlier: 23.0, New Value: 23.0\n",
      "Country: Botswana, Index: 339, Original Outlier: 3.0, New Value: 49.644636619318476\n",
      "Country: Brazil, Index: 363, Original Outlier: 17.0, New Value: 75.15307076405489\n",
      "Country: Brunei Darussalam, Index: 376, Original Outlier: 1.0, New Value: 1.0\n",
      "Country: Bulgaria, Index: 386, Original Outlier: 14.0, New Value: 15.017422187930464\n",
      "Country: Bulgaria, Index: 394, Original Outlier: 16.0, New Value: 16.0\n",
      "Country: Bulgaria, Index: 398, Original Outlier: 16.0, New Value: 16.0\n",
      "Country: Burkina Faso, Index: 400, Original Outlier: 26.0, New Value: 26.0\n",
      "Country: Burkina Faso, Index: 402, Original Outlier: 27.0, New Value: 27.0\n",
      "Country: Burundi, Index: 418, Original Outlier: 33.0, New Value: 33.0\n",
      "Country: Burundi, Index: 421, Original Outlier: 33.0, New Value: 33.0\n",
      "Country: Burundi, Index: 423, Original Outlier: 35.0, New Value: 35.0\n",
      "Country: Côte d'Ivoire, Index: 433, Original Outlier: 47.0, New Value: 213.45147707833735\n",
      "Country: Cabo Verde, Index: 450, Original Outlier: 12.0, New Value: 31.838324939817383\n",
      "Country: Cabo Verde, Index: 459, Original Outlier: 14.0, New Value: 31.838324939817383\n",
      "Country: Cambodia, Index: 468, Original Outlier: 19.0, New Value: 41.285563437307786\n",
      "Country: Cambodia, Index: 472, Original Outlier: 24.0, New Value: 41.285563437307786\n",
      "Country: Canada, Index: 501, Original Outlier: 7.0, New Value: 18.831987432578757\n",
      "Country: Canada, Index: 510, Original Outlier: 8.0, New Value: 18.831987432578757\n",
      "Country: Colombia, Index: 581, Original Outlier: 15.0, New Value: 15.0\n",
      "Country: Colombia, Index: 582, Original Outlier: 15.0, New Value: 15.0\n",
      "Country: Colombia, Index: 588, Original Outlier: 15.0, New Value: 15.0\n",
      "Country: Comoros, Index: 593, Original Outlier: 23.0, New Value: 120.9186820310387\n",
      "Country: Congo, Index: 619, Original Outlier: 48.0, New Value: 134.2336877084638\n",
      "Country: Cyprus, Index: 679, Original Outlier: 6.0, New Value: 15.4545978815839\n",
      "Country: Cyprus, Index: 688, Original Outlier: 7.0, New Value: 15.4545978815839\n",
      "Country: Democratic People's Republic of Korea, Index: 720, Original Outlier: 192.0, New Value: 187.36778823668334\n",
      "Country: Democratic Republic of the Congo, Index: 730, Original Outlier: 36.0, New Value: 77.82109663708232\n",
      "Country: Democratic Republic of the Congo, Index: 735, Original Outlier: 34.0, New Value: 77.82109663708232\n",
      "Country: Djibouti, Index: 762, Original Outlier: 39.0, New Value: 135.5919093677541\n",
      "Country: Dominican Republic, Index: 774, Original Outlier: 16.0, New Value: 18.775236353534567\n",
      "Country: Dominican Republic, Index: 782, Original Outlier: 22.0, New Value: 22.0\n",
      "Country: Ecuador, Index: 794, Original Outlier: 14.0, New Value: 63.132729901580035\n",
      "Country: Equatorial Guinea, Index: 834, Original Outlier: 32.0, New Value: 34.47188990677694\n",
      "Country: Equatorial Guinea, Index: 835, Original Outlier: 32.0, New Value: 34.47188990677694\n",
      "Country: Equatorial Guinea, Index: 840, Original Outlier: 34.0, New Value: 34.47188990677694\n",
      "Country: Eritrea, Index: 860, Original Outlier: 34.0, New Value: 94.94502121552583\n",
      "Country: Eritrea, Index: 865, Original Outlier: 593.0, New Value: 522.3049787844742\n",
      "Country: Ethiopia, Index: 890, Original Outlier: 39.0, New Value: 110.53493074303978\n",
      "Country: France, Index: 943, Original Outlier: 11.0, New Value: 11.758885571921695\n",
      "Country: France, Index: 944, Original Outlier: 13.0, New Value: 13.0\n",
      "Country: France, Index: 945, Original Outlier: 13.0, New Value: 13.0\n",
      "Country: Gambia, Index: 976, Original Outlier: 3.0, New Value: 66.96630187697056\n",
      "Country: Gambia, Index: 977, Original Outlier: 33.0, New Value: 66.96630187697056\n",
      "Country: Georgia, Index: 981, Original Outlier: 13.0, New Value: 34.43087501381227\n",
      "Country: Georgia, Index: 986, Original Outlier: 12.0, New Value: 34.43087501381227\n",
      "Country: Germany, Index: 1001, Original Outlier: 8.0, New Value: 19.478708083855324\n",
      "Country: Germany, Index: 1006, Original Outlier: 9.0, New Value: 19.478708083855324\n",
      "Country: Greece, Index: 1034, Original Outlier: 8.0, New Value: 37.915990865982664\n",
      "Country: Grenada, Index: 1046, Original Outlier: 15.0, New Value: 74.39090054274389\n",
      "Country: Guinea, Index: 1078, Original Outlier: 29.0, New Value: 30.97633246346757\n",
      "Country: Guinea, Index: 1081, Original Outlier: 33.0, New Value: 33.0\n",
      "Country: Guinea, Index: 1082, Original Outlier: 36.0, New Value: 36.0\n",
      "Country: Guyana, Index: 1109, Original Outlier: 22.0, New Value: 60.97182812967537\n",
      "Country: Guyana, Index: 1115, Original Outlier: 24.0, New Value: 60.97182812967537\n",
      "Country: Haiti, Index: 1127, Original Outlier: 682.0, New Value: 525.2122758475059\n",
      "Country: Honduras, Index: 1140, Original Outlier: 15.0, New Value: 42.01066723561624\n",
      "Country: Honduras, Index: 1146, Original Outlier: 16.0, New Value: 42.01066723561624\n",
      "Country: Hungary, Index: 1158, Original Outlier: 15.0, New Value: 38.38200496984291\n",
      "Country: Hungary, Index: 1165, Original Outlier: 18.0, New Value: 38.38200496984291\n",
      "Country: Iceland, Index: 1172, Original Outlier: 5.0, New Value: 5.0\n",
      "Country: Iceland, Index: 1173, Original Outlier: 5.0, New Value: 5.0\n",
      "Country: Indonesia, Index: 1210, Original Outlier: 19.0, New Value: 50.26869105042607\n",
      "Country: Indonesia, Index: 1212, Original Outlier: 19.0, New Value: 50.26869105042607\n",
      "Country: Iran (Islamic Republic of), Index: 1223, Original Outlier: 16.0, New Value: 18.833490863404748\n",
      "Country: Iran (Islamic Republic of), Index: 1233, Original Outlier: 15.0, New Value: 18.833490863404748\n",
      "Country: Ireland, Index: 1254, Original Outlier: 7.0, New Value: 33.395855567420064\n",
      "Country: Israel, Index: 1267, Original Outlier: 6.0, New Value: 16.393929275178266\n",
      "Country: Israel, Index: 1269, Original Outlier: 6.0, New Value: 16.393929275178266\n",
      "Country: Italy, Index: 1285, Original Outlier: 6.0, New Value: 6.0\n",
      "Country: Italy, Index: 1286, Original Outlier: 6.0, New Value: 6.0\n",
      "Country: Italy, Index: 1287, Original Outlier: 6.0, New Value: 6.0\n",
      "Country: Jamaica, Index: 1307, Original Outlier: 15.0, New Value: 67.52076563533295\n",
      "Country: Japan, Index: 1326, Original Outlier: 7.0, New Value: 16.431839231471173\n",
      "Country: Japan, Index: 1327, Original Outlier: 7.0, New Value: 16.431839231471173\n",
      "Country: Jordan, Index: 1338, Original Outlier: 12.0, New Value: 58.109445515983445\n",
      "Country: Kazakhstan, Index: 1347, Original Outlier: 22.0, New Value: 58.72280460393671\n",
      "Country: Kazakhstan, Index: 1348, Original Outlier: 28.0, New Value: 58.72280460393671\n",
      "Country: Kuwait, Index: 1404, Original Outlier: 9.0, New Value: 42.57240583974186\n",
      "Country: Kyrgyzstan, Index: 1411, Original Outlier: 17.0, New Value: 17.0\n",
      "Country: Kyrgyzstan, Index: 1413, Original Outlier: 18.0, New Value: 18.0\n",
      "Country: Lao People's Democratic Republic, Index: 1428, Original Outlier: 23.0, New Value: 23.0\n",
      "Country: Lao People's Democratic Republic, Index: 1435, Original Outlier: 24.0, New Value: 24.0\n",
      "Country: Latvia, Index: 1447, Original Outlier: 18.0, New Value: 18.0\n",
      "Country: Lesotho, Index: 1478, Original Outlier: 52.0, New Value: 257.48547310508695\n",
      "Country: Liberia, Index: 1499, Original Outlier: 32.0, New Value: 32.0\n",
      "Country: Libya, Index: 1510, Original Outlier: 161.0, New Value: 156.01283817924354\n",
      "Country: Madagascar, Index: 1554, Original Outlier: 22.0, New Value: 64.94553159778255\n",
      "Country: Madagascar, Index: 1556, Original Outlier: 23.0, New Value: 64.94553159778255\n",
      "Country: Malaysia, Index: 1590, Original Outlier: 13.0, New Value: 35.539711963622096\n",
      "Country: Malaysia, Index: 1599, Original Outlier: 14.0, New Value: 35.539711963622096\n",
      "Country: Maldives, Index: 1613, Original Outlier: 16.0, New Value: 21.171507438940935\n",
      "Country: Malta, Index: 1649, Original Outlier: 8.0, New Value: 29.351486234748837\n",
      "Country: Mexico, Index: 1685, Original Outlier: 12.0, New Value: 34.00505389645981\n",
      "Country: Mexico, Index: 1689, Original Outlier: 13.0, New Value: 34.00505389645981\n",
      "Country: Micronesia (Federated States of), Index: 1711, Original Outlier: 18.0, New Value: 48.31445037259553\n",
      "Country: Micronesia (Federated States of), Index: 1712, Original Outlier: 21.0, New Value: 48.31445037259553\n",
      "Country: Mongolia, Index: 1721, Original Outlier: 25.0, New Value: 62.661106490110654\n",
      "Country: Mongolia, Index: 1724, Original Outlier: 26.0, New Value: 62.661106490110654\n",
      "Country: Namibia, Index: 1802, Original Outlier: 36.0, New Value: 36.0\n",
      "Country: Netherlands, Index: 1831, Original Outlier: 6.0, New Value: 15.93692715817398\n",
      "Country: Netherlands, Index: 1841, Original Outlier: 8.0, New Value: 15.93692715817398\n",
      "Country: New Zealand, Index: 1848, Original Outlier: 7.0, New Value: 35.03631943974937\n",
      "Country: Nicaragua, Index: 1870, Original Outlier: 17.0, New Value: 75.2769709369571\n",
      "Country: Niger, Index: 1877, Original Outlier: 22.0, New Value: 65.14379619339127\n",
      "Country: Niger, Index: 1889, Original Outlier: 28.0, New Value: 65.14379619339127\n",
      "Country: Norway, Index: 1919, Original Outlier: 7.0, New Value: 30.641012370470285\n",
      "Country: Pakistan, Index: 1952, Original Outlier: 2.0, New Value: 40.36432485057051\n",
      "Country: Pakistan, Index: 1957, Original Outlier: 19.0, New Value: 40.36432485057051\n",
      "Country: Panama, Index: 1962, Original Outlier: 12.0, New Value: 60.17161889376313\n",
      "Country: Papua New Guinea, Index: 1982, Original Outlier: 29.0, New Value: 79.950647929095\n",
      "Country: Papua New Guinea, Index: 1985, Original Outlier: 37.0, New Value: 79.950647929095\n",
      "Country: Paraguay, Index: 1995, Original Outlier: 15.0, New Value: 41.86958135854688\n",
      "Country: Paraguay, Index: 2005, Original Outlier: 17.0, New Value: 41.86958135854688\n",
      "Country: Peru, Index: 2012, Original Outlier: 14.0, New Value: 35.47400191028423\n",
      "Country: Peru, Index: 2013, Original Outlier: 14.0, New Value: 35.47400191028423\n",
      "Country: Philippines, Index: 2023, Original Outlier: 211.0, New Value: 212.30574479698677\n",
      "Country: Qatar, Index: 2073, Original Outlier: 7.0, New Value: 36.78052716601335\n",
      "Country: Republic of Korea, Index: 2101, Original Outlier: 17.0, New Value: 34.25918816499604\n",
      "Country: Russian Federation, Index: 2144, Original Outlier: 3.0, New Value: 14.711799103704038\n",
      "Country: Saint Lucia, Index: 2178, Original Outlier: 16.0, New Value: 70.74106013192875\n",
      "Country: Saint Vincent and the Grenadines, Index: 2188, Original Outlier: 16.0, New Value: 44.007035846939544\n",
      "Country: Saint Vincent and the Grenadines, Index: 2192, Original Outlier: 17.0, New Value: 44.007035846939544\n",
      "Country: Samoa, Index: 2210, Original Outlier: 16.0, New Value: 36.82100597253179\n",
      "Country: Samoa, Index: 2215, Original Outlier: 18.0, New Value: 36.82100597253179\n",
      "Country: Seychelles, Index: 2282, Original Outlier: 17.0, New Value: 48.394548092533725\n",
      "Country: Seychelles, Index: 2286, Original Outlier: 18.0, New Value: 48.394548092533725\n",
      "Country: Singapore, Index: 2317, Original Outlier: 6.0, New Value: 28.80562296613075\n",
      "Country: Slovakia, Index: 2329, Original Outlier: 19.0, New Value: 35.589170977824594\n",
      "Country: Slovakia, Index: 2337, Original Outlier: 14.0, New Value: 35.589170977824594\n",
      "Country: Somalia, Index: 2385, Original Outlier: 34.0, New Value: 164.16778172626624\n",
      "Country: South Africa, Index: 2396, Original Outlier: 48.0, New Value: 190.0388268032637\n",
      "Country: South Sudan, Index: 2424, Original Outlier: 38.0, New Value: 178.160634116805\n",
      "Country: Spain, Index: 2427, Original Outlier: 6.0, New Value: 14.990992693726476\n",
      "Country: Spain, Index: 2432, Original Outlier: 7.0, New Value: 14.990992693726476\n",
      "Country: Sri Lanka, Index: 2455, Original Outlier: 16.0, New Value: 66.70604438279946\n",
      "Country: Sudan, Index: 2466, Original Outlier: 26.0, New Value: 119.09265838980815\n",
      "Country: Suriname, Index: 2478, Original Outlier: 19.0, New Value: 19.15404897194702\n",
      "Country: Suriname, Index: 2481, Original Outlier: 22.0, New Value: 22.0\n",
      "Country: Sweden, Index: 2516, Original Outlier: 7.0, New Value: 28.556633215006794\n",
      "Country: Switzerland, Index: 2527, Original Outlier: 6.0, New Value: 12.795760783519093\n",
      "Country: Switzerland, Index: 2528, Original Outlier: 6.0, New Value: 12.795760783519093\n",
      "Country: Syrian Arab Republic, Index: 2537, Original Outlier: 293.0, New Value: 277.8767028225451\n",
      "Country: Syrian Arab Republic, Index: 2538, Original Outlier: 294.0, New Value: 277.8767028225451\n",
      "Country: Thailand, Index: 2575, Original Outlier: 16.0, New Value: 76.38174630265436\n",
      "Country: Timor-Leste, Index: 2611, Original Outlier: 26.0, New Value: 28.20538299270831\n",
      "Country: Timor-Leste, Index: 2613, Original Outlier: 25.0, New Value: 28.20538299270831\n",
      "Country: Togo, Index: 2621, Original Outlier: 34.0, New Value: 154.27710059379393\n",
      "Country: Tonga, Index: 2637, Original Outlier: 14.0, New Value: 38.45227015896329\n",
      "Country: Tonga, Index: 2643, Original Outlier: 15.0, New Value: 38.45227015896329\n",
      "Country: Trinidad and Tobago, Index: 2649, Original Outlier: 17.0, New Value: 48.78151560116227\n",
      "Country: Trinidad and Tobago, Index: 2660, Original Outlier: 19.0, New Value: 48.78151560116227\n",
      "Country: Tunisia, Index: 2680, Original Outlier: 112.0, New Value: 69.03717530345088\n",
      "Country: Turkmenistan, Index: 2700, Original Outlier: 22.0, New Value: 109.48198843442054\n",
      "Country: Ukraine, Index: 2731, Original Outlier: 23.0, New Value: 23.0\n",
      "Country: United Kingdom of Great Britain and Northern Ireland, Index: 2769, Original Outlier: 8.0, New Value: 20.011653539834484\n",
      "Country: United Kingdom of Great Britain and Northern Ireland, Index: 2770, Original Outlier: 8.0, New Value: 20.011653539834484\n",
      "Country: Uruguay, Index: 2814, Original Outlier: 111.0, New Value: 111.0\n",
      "Country: Uruguay, Index: 2825, Original Outlier: 131.0, New Value: 129.07259715328743\n",
      "Country: Uzbekistan, Index: 2836, Original Outlier: 192.0, New Value: 189.72337229183032\n",
      "Country: Vanuatu, Index: 2842, Original Outlier: 13.0, New Value: 38.03012031155528\n",
      "Country: Vanuatu, Index: 2857, Original Outlier: 18.0, New Value: 38.03012031155528\n",
      "Country: Viet Nam, Index: 2877, Original Outlier: 13.0, New Value: 65.56646187729348\n",
      "Country: Yemen, Index: 2898, Original Outlier: 24.0, New Value: 64.55450644220815\n",
      "Country: Yemen, Index: 2903, Original Outlier: 25.0, New Value: 64.55450644220815\n"
     ]
    }
   ],
   "source": [
    "from scipy.stats import zscore\n",
    "\n",
    "# Initialize a list to store the outliers\n",
    "outliers = []\n",
    "\n",
    "# Handle outliers on a country-by-country basis using Z-score\n",
    "threshold = 2 # Z-score threshold\n",
    "for country in data['Country'].unique():\n",
    "    country_data = data[data['Country'] == country]\n",
    "    \n",
    "    # Calculate Z-scores\n",
    "    z_scores = zscore(country_data['Adult Mortality'].dropna())\n",
    "    \n",
    "    # Identify outliers within each country and print them\n",
    "    for idx, z in zip(country_data.index, z_scores):\n",
    "        if abs(z) > threshold:\n",
    "            outliers.append((country, idx, country_data.at[idx, 'Adult Mortality']))\n",
    "\n",
    "# Print all identified outliers\n",
    "print(\"Identified Outliers:\")\n",
    "for country, idx, outlier in outliers:\n",
    "    print(f\"Country: {country}, Index: {idx}, Outlier: {outlier}\")\n",
    "\n",
    "# Cap the outliers to the Z-score threshold\n",
    "for country in data['Country'].unique():\n",
    "    country_data = data[data['Country'] == country]\n",
    "    mean = country_data['Adult Mortality'].mean()\n",
    "    std_dev = country_data['Adult Mortality'].std()\n",
    "    \n",
    "    for country, idx, value in outliers:\n",
    "        if country == country_data['Country'].iloc[0]:\n",
    "            if (value - mean) / std_dev > threshold:\n",
    "                data.at[idx, 'Adult Mortality'] = mean + threshold * std_dev\n",
    "            elif (value - mean) / std_dev < -threshold:\n",
    "                data.at[idx, 'Adult Mortality'] = mean - threshold * std_dev\n",
    "\n",
    "# Verify the changes\n",
    "print(\"\\nAfter Outliers treatment:\")\n",
    "for country, idx, outlier in outliers:\n",
    "    new_value = data.at[idx, 'Adult Mortality']\n",
    "    print(f\"Country: {country}, Index: {idx}, Original Outlier: {outlier}, New Value: {new_value}\")\n"
   ]
  },
  {
   "cell_type": "code",
   "execution_count": 506,
   "id": "03ff6850-11df-4ff1-b838-f684ac889c09",
   "metadata": {},
   "outputs": [
    {
     "name": "stdout",
     "output_type": "stream",
     "text": [
      "    Country  Year      Status  Life expectancy  Adult Mortality  \\\n",
      "32  Algeria  2015  Developing             75.6        19.000000   \n",
      "33  Algeria  2014  Developing             75.4        12.559837   \n",
      "34  Algeria  2013  Developing             75.3       112.000000   \n",
      "35  Algeria  2012  Developing             75.1       113.000000   \n",
      "36  Algeria  2011  Developing             74.9       116.000000   \n",
      "37  Algeria  2010  Developing             74.7       119.000000   \n",
      "38  Algeria  2009  Developing             74.4       123.000000   \n",
      "39  Algeria  2008  Developing             74.1       126.000000   \n",
      "40  Algeria  2007  Developing             73.8       129.000000   \n",
      "41  Algeria  2006  Developing             73.4       132.000000   \n",
      "42  Algeria  2005  Developing             72.9       136.000000   \n",
      "43  Algeria  2004  Developing             72.3        14.000000   \n",
      "44  Algeria  2003  Developing             71.7       146.000000   \n",
      "45  Algeria  2002  Developing             71.6       145.000000   \n",
      "46  Algeria  2001  Developing             71.4       145.000000   \n",
      "47  Algeria  2000  Developing             71.3       145.000000   \n",
      "\n",
      "    infant deaths  Alcohol  percentage expenditure  Hepatitis B  Measles  ...  \\\n",
      "32             21      NaN                0.000000         95.0       63  ...   \n",
      "33             21     0.01               54.237318         95.0        0  ...   \n",
      "34             21     0.53              544.450743         95.0       25  ...   \n",
      "35             21     0.66              555.926083         95.0       18  ...   \n",
      "36             21     0.56              509.002041         95.0      112  ...   \n",
      "37             21     0.45              430.717586         95.0      103  ...   \n",
      "38             20     0.50              352.063642         94.0      107  ...   \n",
      "39             20     0.46               43.087173         91.0      217  ...   \n",
      "40             20     0.44              320.323924          9.0        0  ...   \n",
      "41             20     0.36              270.240196          8.0      944  ...   \n",
      "42             19     0.50                2.548923         83.0     2302  ...   \n",
      "43             19     0.45              220.393699         81.0     3289  ...   \n",
      "44             20     0.34               25.018523          NaN    15374  ...   \n",
      "45             20     0.36              148.511984          NaN     5862  ...   \n",
      "46             20     0.23              147.986071          NaN     2686  ...   \n",
      "47             21     0.25              154.455944          NaN        0  ...   \n",
      "\n",
      "    Polio  Total expenditure  Diphtheria  HIV/AIDS          GDP  Population  \\\n",
      "32   95.0                NaN        95.0       0.1  4132.762920  39871528.0   \n",
      "33   95.0               7.21        95.0       0.1   547.851700  39113313.0   \n",
      "34   95.0               7.12        95.0       0.1  5471.866766  38338562.0   \n",
      "35   95.0               6.14        95.0       0.1  5564.825660  37565847.0   \n",
      "36   95.0               5.29        95.0       0.1  5432.252300  36819558.0   \n",
      "37   95.0               5.12        95.0       0.1  4463.394675  36117637.0   \n",
      "38   94.0               5.36        95.0       0.1  3868.831230   3546576.0   \n",
      "39   92.0               4.20        93.0       0.1   495.254866   3486715.0   \n",
      "40   95.0               3.82        95.0       0.1  3935.183343     34376.0   \n",
      "41   95.0               3.36        95.0       0.1  3464.617900  33777915.0   \n",
      "42   88.0               3.24        88.0       0.1    31.122378  33288437.0   \n",
      "43   86.0               3.54        86.0       0.1  2598.982300   3283196.0   \n",
      "44   87.0               3.60        87.0       0.1   294.335560   3243514.0   \n",
      "45   86.0               3.73        86.0       0.1  1774.336730   3199546.0   \n",
      "46   89.0               3.84        89.0       0.1  1732.857979  31592153.0   \n",
      "47   86.0               3.49        86.0       0.1  1757.177970   3118366.0   \n",
      "\n",
      "    thinness  1-19 years  thinness 5-9 years  Income composition of resources  \\\n",
      "32                   6.0                 5.8                            0.743   \n",
      "33                   6.0                 5.8                            0.741   \n",
      "34                   5.9                 5.8                            0.737   \n",
      "35                   5.9                 5.8                            0.732   \n",
      "36                   5.9                 5.8                            0.724   \n",
      "37                   5.9                 5.8                            0.714   \n",
      "38                   6.0                 5.9                            0.705   \n",
      "39                   6.0                 5.9                            0.697   \n",
      "40                   6.0                 5.9                            0.690   \n",
      "41                   6.1                 6.0                            0.686   \n",
      "42                   6.1                 6.0                            0.680   \n",
      "43                   6.2                 6.1                            0.673   \n",
      "44                   6.3                 6.1                            0.663   \n",
      "45                   6.3                 6.2                            0.653   \n",
      "46                   6.4                 6.3                            0.644   \n",
      "47                   6.5                 6.4                            0.636   \n",
      "\n",
      "    Schooling  \n",
      "32       14.4  \n",
      "33       14.4  \n",
      "34       14.4  \n",
      "35       14.4  \n",
      "36       14.0  \n",
      "37       13.6  \n",
      "38       13.1  \n",
      "39       12.6  \n",
      "40       12.3  \n",
      "41       12.3  \n",
      "42       12.0  \n",
      "43       11.7  \n",
      "44       11.5  \n",
      "45       11.1  \n",
      "46       10.9  \n",
      "47       10.7  \n",
      "\n",
      "[16 rows x 22 columns]\n"
     ]
    }
   ],
   "source": [
    "algeria_data = data[data['Country'] == 'Algeria']\n",
    "#algeria_data = data[data[\"Country\"] == \"Algeria\"]\n",
    "print(algeria_data)"
   ]
  },
  {
   "cell_type": "code",
   "execution_count": 507,
   "id": "4c91db43-065c-4001-aae9-143f6981025d",
   "metadata": {},
   "outputs": [
    {
     "data": {
      "text/plain": [
       "Text(0.5, 0, 'Adult Mortality (per 1000 population)')"
      ]
     },
     "execution_count": 507,
     "metadata": {},
     "output_type": "execute_result"
    },
    {
     "data": {
      "image/png": "[encoded data removed]",
      "text/plain": [
       "<Figure size 640x480 with 1 Axes>"
      ]
     },
     "metadata": {},
     "output_type": "display_data"
    }
   ],
   "source": [
    "#plt.subplot(1, 2, 2)\n",
    "sns.boxplot(x=df['Adult Mortality'], color='green')\n",
    "plt.title('Box Plot of Adult Mortality')\n",
    "plt.xlabel('Adult Mortality (per 1000 population)')\n"
   ]
  },
  {
   "cell_type": "markdown",
   "id": "8c6f7e42-04c5-4562-aebe-90e64fe1b5a8",
   "metadata": {
    "jp-MarkdownHeadingCollapsed": true,
    "tags": []
   },
   "source": [
    "# Preprocessing Column: Infant deaths"
   ]
  },
  {
   "cell_type": "markdown",
   "id": "879f6e7d-fecf-4ab7-afea-c0c41381c752",
   "metadata": {
    "jp-MarkdownHeadingCollapsed": true,
    "tags": []
   },
   "source": [
    "### Outlier Treatment"
   ]
  },
  {
   "cell_type": "code",
   "execution_count": 508,
   "id": "9c2381e6-288b-4c4d-95ec-e0221fcf1484",
   "metadata": {},
   "outputs": [
    {
     "name": "stdout",
     "output_type": "stream",
     "text": [
      "Identified Outliers:\n",
      "Country: Bulgaria, Index: 384, Outlier: 0\n",
      "Country: France, Index: 930, Outlier: 2\n",
      "Country: Israel, Index: 1266, Outlier: 0\n",
      "\n",
      "After Outliers treatment:\n",
      "Country: Bulgaria, Index: 384, Original Outlier: 0, New Value: 0.1875\n",
      "Country: France, Index: 930, Original Outlier: 2, New Value: 2.1875\n",
      "Country: Israel, Index: 1266, Original Outlier: 0, New Value: 0.1875\n"
     ]
    }
   ],
   "source": [
    "from scipy.stats import zscore\n",
    "\n",
    "# Initialize a list to store the outliers\n",
    "outliers = []\n",
    "\n",
    "# Handle outliers on a country-by-country basis using Z-score\n",
    "threshold = 3 # Z-score threshold\n",
    "for country in data['Country'].unique():\n",
    "    country_data = data[data['Country'] == country]\n",
    "    \n",
    "    # Calculate Z-scores\n",
    "    z_scores = zscore(country_data['infant deaths'].dropna())\n",
    "    \n",
    "    # Identify outliers within each country and print them\n",
    "    for idx, z in zip(country_data.index, z_scores):\n",
    "        if abs(z) > threshold:\n",
    "            outliers.append((country, idx, country_data.at[idx, 'infant deaths']))\n",
    "\n",
    "# Print all identified outliers\n",
    "print(\"Identified Outliers:\")\n",
    "for country, idx, outlier in outliers:\n",
    "    print(f\"Country: {country}, Index: {idx}, Outlier: {outlier}\")\n",
    "\n",
    "# Cap the outliers to the Z-score threshold\n",
    "for country in data['Country'].unique():\n",
    "    country_data = data[data['Country'] == country]\n",
    "    mean = country_data['infant deaths'].mean()\n",
    "    std_dev = country_data['infant deaths'].std()\n",
    "    \n",
    "    for country, idx, value in outliers:\n",
    "        if country == country_data['Country'].iloc[0]:\n",
    "            if (value - mean) / std_dev > threshold:\n",
    "                data.at[idx, 'infant deaths'] = mean + threshold * std_dev\n",
    "            elif (value - mean) / std_dev < -threshold:\n",
    "                data.at[idx, 'infant deaths'] = mean - threshold * std_dev\n",
    "\n",
    "# Verify the changes\n",
    "print(\"\\nAfter Outliers treatment:\")\n",
    "for country, idx, outlier in outliers:\n",
    "    new_value = data.at[idx, 'infant deaths']\n",
    "    print(f\"Country: {country}, Index: {idx}, Original Outlier: {outlier}, New Value: {new_value}\")\n"
   ]
  },
  {
   "cell_type": "markdown",
   "id": "aa649d98-4a1f-4a2a-9a41-c88d42fa2a08",
   "metadata": {
    "jp-MarkdownHeadingCollapsed": true,
    "tags": []
   },
   "source": [
    "# Preprocessing Column: Alcohol"
   ]
  },
  {
   "cell_type": "code",
   "execution_count": 539,
   "id": "aa3240c7-4933-411c-8803-c35fd269337b",
   "metadata": {},
   "outputs": [
    {
     "name": "stdout",
     "output_type": "stream",
     "text": [
      "Missing values in Alcohol column after filling: 17\n"
     ]
    }
   ],
   "source": [
    "#1- Fill missing values with the mean alcohol consumption for the same country.\n",
    "#2- Verify the results.\n",
    "\n",
    "data['Alcohol'] = data.groupby('Country')['Alcohol'].transform(lambda x: x.fillna(x.mean()))\n",
    "\n",
    "# Verify the changes\n",
    "missing_values_alcohol = data['Alcohol'].isnull().sum()\n",
    "print(f'Missing values in Alcohol column after filling: {missing_values_alcohol}')\n",
    "#print(data[['Country', 'Year', 'Alcohol']].head(20))"
   ]
  },
  {
   "cell_type": "markdown",
   "id": "578e05df-bb37-479c-8db6-85e132ae18ac",
   "metadata": {},
   "source": [
    "Some countries still have missing values in the 'Alcohol' column even after filling with the mean alcohol consumption for the same country. This might happen if a country has all missing values for the 'Alcohol' column, making it impossible to calculate the mean for that country.\n",
    "\n",
    "To handle this, we will fill the remaining missing values with the global mean alcohol consumption.\n",
    "\n"
   ]
  },
  {
   "cell_type": "code",
   "execution_count": 540,
   "id": "1ed9e426-2a87-4009-984f-b9533ac5c8f1",
   "metadata": {},
   "outputs": [
    {
     "name": "stdout",
     "output_type": "stream",
     "text": [
      "Missing values in Alcohol column after filling: 0\n"
     ]
    }
   ],
   "source": [
    "\n",
    "# Fill remaining missing values with the global mean alcohol consumption\n",
    "global_mean_alcohol = data['Alcohol'].mean()\n",
    "data['Alcohol'] = data['Alcohol'].fillna(global_mean_alcohol)\n",
    "\n",
    "# Verify the changes\n",
    "missing_values_alcohol = data['Alcohol'].isnull().sum()\n",
    "print(f'Missing values in Alcohol column after filling: {missing_values_alcohol}')"
   ]
  },
  {
   "cell_type": "markdown",
   "id": "9aec079f-d1d7-4cfd-ab8f-a7e027fe7e06",
   "metadata": {
    "jp-MarkdownHeadingCollapsed": true,
    "tags": []
   },
   "source": [
    "# Preprocessing Column: percentage expenditure"
   ]
  },
  {
   "cell_type": "code",
   "execution_count": 511,
   "id": "98309194-6dd4-453b-816a-909122ab8ad5",
   "metadata": {},
   "outputs": [
    {
     "name": "stdout",
     "output_type": "stream",
     "text": [
      "Identified Outliers:\n",
      "Country: Turkey, Index: 2685, Outlier: 1275.877569\n",
      "\n",
      "After Outliers treatment:\n",
      "Country: Turkey, Index: 2685, Original Outlier: 1275.877569, New Value: 1275.877569\n"
     ]
    }
   ],
   "source": [
    "from scipy.stats import zscore\n",
    "\n",
    "# Initialize a list to store the outliers\n",
    "outliers = []\n",
    "#data = pd.read_csv(\"Life Expectancy Data 2.csv\")\n",
    "#data = data.rename(columns=lambda x: x.strip())\n",
    "\n",
    "# Handle outliers on a country-by-country basis using Z-score\n",
    "threshold = 3 # Z-score threshold\n",
    "for country in data['Country'].unique():\n",
    "    country_data = data[data['Country'] == country]\n",
    "    \n",
    "    # Calculate Z-scores\n",
    "    z_scores = zscore(country_data['percentage expenditure'].dropna())\n",
    "    \n",
    "    # Identify outliers within each country and print them\n",
    "    for idx, z in zip(country_data.index, z_scores):\n",
    "        if abs(z) > threshold:\n",
    "            outliers.append((country, idx, country_data.at[idx, 'percentage expenditure']))\n",
    "\n",
    "# Print all identified outliers\n",
    "print(\"Identified Outliers:\")\n",
    "for country, idx, outlier in outliers:\n",
    "    print(f\"Country: {country}, Index: {idx}, Outlier: {outlier}\")\n",
    "\n",
    "# Cap the outliers to the Z-score threshold\n",
    "for country in data['Country'].unique():\n",
    "    country_data = data[data['Country'] == country]\n",
    "    mean = country_data['percentage expenditure'].mean()\n",
    "    std_dev = country_data['percentage expenditure'].std()\n",
    "    \n",
    "    for country, idx, value in outliers:\n",
    "        if country == country_data['Country'].iloc[0]:\n",
    "            if (value - mean) / std_dev > threshold:\n",
    "                data.at[idx, 'percentage expenditure'] = mean + threshold * std_dev\n",
    "            elif (value - mean) / std_dev < -threshold:\n",
    "                data.at[idx, 'percentage expenditure'] = mean - threshold * std_dev\n",
    "\n",
    "# Verify the changes\n",
    "print(\"\\nAfter Outliers treatment:\")\n",
    "for country, idx, outlier in outliers:\n",
    "    new_value = data.at[idx, 'percentage expenditure']\n",
    "    print(f\"Country: {country}, Index: {idx}, Original Outlier: {outlier}, New Value: {new_value}\")\n"
   ]
  },
  {
   "cell_type": "code",
   "execution_count": 512,
   "id": "0092c6f8-a025-4a9e-8e5f-71e4f404ba19",
   "metadata": {},
   "outputs": [
    {
     "name": "stdout",
     "output_type": "stream",
     "text": [
      "     Country  Year      Status  Life expectancy  Adult Mortality  \\\n",
      "2681  Turkey  2015  Developing             75.8             16.0   \n",
      "2682  Turkey  2014  Developing             75.5             17.0   \n",
      "2683  Turkey  2013  Developing             75.2             19.0   \n",
      "2684  Turkey  2012  Developing             74.8            112.0   \n",
      "2685  Turkey  2011  Developing             74.5            114.0   \n",
      "2686  Turkey  2010  Developing             74.2            116.0   \n",
      "2687  Turkey  2009  Developing             73.9            118.0   \n",
      "2688  Turkey  2008  Developing             73.5            121.0   \n",
      "2689  Turkey  2007  Developing             73.2            124.0   \n",
      "2690  Turkey  2006  Developing             72.8            126.0   \n",
      "2691  Turkey  2005  Developing             72.4            129.0   \n",
      "2692  Turkey  2004  Developing             72.0            132.0   \n",
      "2693  Turkey  2003  Developing             71.6            135.0   \n",
      "2694  Turkey  2002  Developing             71.2            138.0   \n",
      "2695  Turkey  2001  Developing             78.0             14.0   \n",
      "2696  Turkey  2000  Developing             74.0            143.0   \n",
      "\n",
      "      infant deaths   Alcohol  percentage expenditure  Hepatitis B  Measles  \\\n",
      "2681           15.0  1.421333                0.000000         97.0      342   \n",
      "2682           16.0  1.450000              181.908378         96.0      565   \n",
      "2683           17.0  1.410000              188.144035         97.0     7405   \n",
      "2684           19.0  1.540000               20.751202         97.0      349   \n",
      "2685           20.0  1.530000             1275.877569         96.0      111   \n",
      "2686           21.0  1.490000               32.782358         96.0        7   \n",
      "2687           23.0  1.400000              106.948290         94.0        4   \n",
      "2688           25.0  1.390000               22.672718         92.0        0   \n",
      "2689           26.0  1.260000              115.580110         96.0        3   \n",
      "2690           28.0  1.290000              103.523776         82.0       34   \n",
      "2691           30.0  1.290000              832.955206         85.0     6200   \n",
      "2692           33.0  1.350000                1.132767         77.0     8927   \n",
      "2693           35.0  1.420000              459.111306         68.0     5844   \n",
      "2694           38.0  1.470000               35.557290         72.0     7823   \n",
      "2695           41.0  1.490000              256.434175         77.0    30509   \n",
      "2696           44.0  1.540000              421.295660         71.0    16244   \n",
      "\n",
      "      ...  Polio  Total expenditure  Diphtheria  HIV/AIDS           GDP  \\\n",
      "2681  ...   97.0                NaN        97.0       0.1   1979.525690   \n",
      "2682  ...   96.0               5.41        96.0       0.1  12127.225220   \n",
      "2683  ...   98.0               5.38        98.0       0.1  12542.935650   \n",
      "2684  ...   97.0               5.24        97.0       0.1   1172.384300   \n",
      "2685  ...   97.0               5.29        97.0       0.1  11341.133950   \n",
      "2686  ...   97.0               5.61        97.0       0.1   1672.569300   \n",
      "2687  ...   96.0               6.80        96.0       0.1    936.499911   \n",
      "2688  ...   96.0               6.70        96.0       0.1    185.689750   \n",
      "2689  ...   96.0               6.40        96.0       0.1    979.492460   \n",
      "2690  ...    9.0               5.81         9.0       0.1    834.869161   \n",
      "2691  ...    9.0               5.45         9.0       0.1   7384.354661   \n",
      "2692  ...   85.0               5.37        85.0       0.1     64.729530   \n",
      "2693  ...   69.0               5.34        68.0       0.1   4718.512910   \n",
      "2694  ...   78.0               5.36        78.0       0.1    366.570000   \n",
      "2695  ...   88.0               5.16        88.0       0.1   3119.637160   \n",
      "2696  ...   85.0               4.95        85.0       0.1   4316.553895   \n",
      "\n",
      "      Population  thinness  1-19 years  thinness 5-9 years  \\\n",
      "2681  78271472.0                   4.9                 4.8   \n",
      "2682    773628.0                   4.9                 4.7   \n",
      "2683  75787333.0                   4.9                 4.7   \n",
      "2684  74569867.0                   4.9                 4.7   \n",
      "2685   7349455.0                   4.9                 4.7   \n",
      "2686  72326914.0                   4.9                 4.7   \n",
      "2687  71339185.0                   4.9                 4.8   \n",
      "2688     74432.0                   5.0                 4.8   \n",
      "2689  69597281.0                   5.0                 4.8   \n",
      "2690   6876345.0                   5.0                 4.8   \n",
      "2691    679346.0                   5.0                 4.9   \n",
      "2692    677855.0                   5.1                 4.9   \n",
      "2693    668583.0                   5.1                 5.0   \n",
      "2694   6514354.0                   5.2                 5.0   \n",
      "2695  64191474.0                   5.2                 5.1   \n",
      "2696   6324121.0                   5.3                 5.2   \n",
      "\n",
      "      Income composition of resources  Schooling  \n",
      "2681                            0.764       14.5  \n",
      "2682                            0.759       14.5  \n",
      "2683                            0.754       14.4  \n",
      "2684                            0.750       14.3  \n",
      "2685                            0.737       13.8  \n",
      "2686                            0.715       13.0  \n",
      "2687                            0.709       12.5  \n",
      "2688                            0.705       12.5  \n",
      "2689                            0.697       12.3  \n",
      "2690                            0.687       11.9  \n",
      "2691                            0.681       11.9  \n",
      "2692                            0.675       12.0  \n",
      "2693                            0.668       11.9  \n",
      "2694                            0.658       11.5  \n",
      "2695                            0.653       11.1  \n",
      "2696                            0.641       10.7  \n",
      "\n",
      "[16 rows x 22 columns]\n"
     ]
    }
   ],
   "source": [
    "Barbados_data = data[data['Country'] == 'Turkey']\n",
    "print(Barbados_data)"
   ]
  },
  {
   "cell_type": "markdown",
   "id": "c83c1905-686b-49e2-aa3b-24f5ddd5ca89",
   "metadata": {
    "jp-MarkdownHeadingCollapsed": true,
    "tags": []
   },
   "source": [
    "# Preprocessing Column: Diphtheria"
   ]
  },
  {
   "cell_type": "markdown",
   "id": "9ee2aed2-bdd2-4c80-a842-6234e58d65c6",
   "metadata": {
    "jp-MarkdownHeadingCollapsed": true,
    "tags": []
   },
   "source": [
    "### Missing value Treatment"
   ]
  },
  {
   "cell_type": "code",
   "execution_count": 521,
   "id": "aec93e4a-0e98-4de3-9522-c90882989868",
   "metadata": {},
   "outputs": [
    {
     "name": "stdout",
     "output_type": "stream",
     "text": [
      "Remaining missing values:\n"
     ]
    },
    {
     "data": {
      "text/plain": [
       "0"
      ]
     },
     "execution_count": 521,
     "metadata": {},
     "output_type": "execute_result"
    }
   ],
   "source": [
    "# Fill missing values in 'Diphtheria' with the mean value of the same country\n",
    "data['Diphtheria'] = data.groupby('Country')['Diphtheria'].transform(lambda x: x.fillna(x.mean()))\n",
    "\n",
    "# Fill any remaining missing values in 'Diphtheria' with the global mean\n",
    "global_mean_diphtheria = data['Diphtheria'].mean()\n",
    "data['Diphtheria'] = data['Diphtheria'].fillna(global_mean_diphtheria)\n",
    "\n",
    "print(\"Remaining missing values:\")\n",
    "data['Diphtheria'].isnull().sum()"
   ]
  },
  {
   "cell_type": "markdown",
   "id": "16c9408a-86a2-4a0d-ab81-017d1c1f1994",
   "metadata": {
    "jp-MarkdownHeadingCollapsed": true,
    "tags": []
   },
   "source": [
    "### Outlier Treatment"
   ]
  },
  {
   "cell_type": "code",
   "execution_count": 514,
   "id": "eb0d7fc4-0f55-4d1c-829c-8ee3fe4a009b",
   "metadata": {},
   "outputs": [
    {
     "name": "stdout",
     "output_type": "stream",
     "text": [
      "\n",
      "After Outliers treatment:\n",
      "Country: Antigua and Barbuda, Index: 79, Original Outlier: 95.0, New Value: 95.0\n",
      "Country: Armenia, Index: 106, Original Outlier: 9.0, New Value: 24.219240167661667\n",
      "Country: Australia, Index: 127, Original Outlier: 9.0, New Value: 24.560876400289473\n",
      "Country: Belarus, Index: 236, Original Outlier: 5.0, New Value: 22.342940440933404\n",
      "Country: Bulgaria, Index: 385, Original Outlier: 88.0, New Value: 88.0\n",
      "Country: Burkina Faso, Index: 403, Original Outlier: 9.0, New Value: 9.876141112527435\n",
      "Country: Burundi, Index: 431, Original Outlier: 8.0, New Value: 20.900944494156278\n",
      "Country: Côte d'Ivoire, Index: 434, Original Outlier: 8.0, New Value: 14.776974707126413\n",
      "Country: Central African Republic, Index: 526, Original Outlier: 4.0, New Value: 5.160664029118564\n",
      "Country: Chile, Index: 547, Original Outlier: 9.0, New Value: 24.66374708928474\n",
      "Country: Cuba, Index: 669, Original Outlier: 72.0, New Value: 72.99561613058654\n",
      "Country: Denmark, Index: 742, Original Outlier: 9.0, New Value: 24.078172742012455\n",
      "Country: El Salvador, Index: 829, Original Outlier: 9.0, New Value: 23.188574227765343\n",
      "Country: Fiji, Index: 913, Original Outlier: 9.0, New Value: 25.074719694716237\n",
      "Country: Gambia, Index: 977, Original Outlier: 8.0, New Value: 22.855502896282303\n",
      "Country: Georgia, Index: 993, Original Outlier: 8.0, New Value: 20.32405521086369\n",
      "Country: Germany, Index: 1009, Original Outlier: 9.0, New Value: 25.096531354932452\n",
      "Country: Grenada, Index: 1053, Original Outlier: 83.0, New Value: 83.48210084040883\n",
      "Country: Guyana, Index: 1118, Original Outlier: 9.0, New Value: 23.926605981942643\n",
      "Country: Iceland, Index: 1171, Original Outlier: 9.0, New Value: 24.605545132375227\n",
      "Country: India, Index: 1193, Original Outlier: 7.0, New Value: 9.61197780916173\n",
      "Country: Indonesia, Index: 1215, Original Outlier: 7.0, New Value: 18.509890699080543\n",
      "Country: Iraq, Index: 1249, Original Outlier: 8.0, New Value: 14.538673127910464\n",
      "Country: Ireland, Index: 1260, Original Outlier: 9.0, New Value: 23.04528852317094\n",
      "Country: Israel, Index: 1279, Original Outlier: 9.0, New Value: 24.909439072512413\n",
      "Country: Italy, Index: 1297, Original Outlier: 87.0, New Value: 87.36081871923554\n",
      "Country: Jamaica, Index: 1304, Original Outlier: 9.0, New Value: 24.479927168127915\n",
      "Country: Japan, Index: 1329, Original Outlier: 85.0, New Value: 86.73159677256737\n",
      "Country: Kazakhstan, Index: 1357, Original Outlier: 82.0, New Value: 83.57039076754222\n",
      "Country: Kuwait, Index: 1395, Original Outlier: 95.0, New Value: 95.40161332303407\n",
      "Country: Luxembourg, Index: 1550, Original Outlier: 98.0, New Value: 98.1875\n",
      "Country: Malawi, Index: 1584, Original Outlier: 9.0, New Value: 18.550811568641137\n",
      "Country: Montenegro, Index: 1741, Original Outlier: 9.0, New Value: 22.694660424846788\n",
      "Country: Norway, Index: 1925, Original Outlier: 9.0, New Value: 24.68117620545752\n",
      "Country: Philippines, Index: 2023, Original Outlier: 6.0, New Value: 17.75196031643862\n",
      "Country: Qatar, Index: 2086, Original Outlier: 8.0, New Value: 23.817457492043474\n",
      "Country: Rwanda, Index: 2166, Original Outlier: 9.0, New Value: 22.868985234416584\n",
      "Country: Sao Tome and Principe, Index: 2232, Original Outlier: 82.0, New Value: 83.08132946315784\n",
      "Country: Senegal, Index: 2262, Original Outlier: 6.0, New Value: 8.420708636492932\n",
      "Country: Slovakia, Index: 2329, Original Outlier: 96.0, New Value: 96.0\n",
      "Country: South Africa, Index: 2406, Original Outlier: 7.0, New Value: 17.683571575547802\n",
      "Country: Swaziland, Index: 2489, Original Outlier: 9.0, New Value: 22.40996413434371\n",
      "Country: Timor-Leste, Index: 2609, Original Outlier: 7.0, New Value: 9.880002929709605\n",
      "Country: Togo, Index: 2631, Original Outlier: 5.0, New Value: 13.530409710178603\n",
      "Country: Turkmenistan, Index: 2709, Original Outlier: 83.0, New Value: 85.15671136046143\n",
      "Country: Uganda, Index: 2719, Original Outlier: 8.0, New Value: 10.709974383833256\n",
      "Country: Uruguay, Index: 2825, Original Outlier: 9.0, New Value: 24.942058341020243\n",
      "Country: Viet Nam, Index: 2876, Original Outlier: 59.0, New Value: 61.02867190370833\n",
      "Country: Zimbabwe, Index: 2931, Original Outlier: 7.0, New Value: 12.380951774516376\n"
     ]
    }
   ],
   "source": [
    "\n",
    "# Initialize a list to store the outliers\n",
    "outliers = []\n",
    "#data = pd.read_csv(\"Life Expectancy Data 2.csv\")\n",
    "#data = data.rename(columns=lambda x: x.strip())\n",
    "# Handle outliers on a country-by-country basis using Z-score\n",
    "threshold = 3 # Z-score threshold\n",
    "for country in data['Country'].unique():\n",
    "    country_data = data[data['Country'] == country]\n",
    "    \n",
    "    # Calculate Z-scores\n",
    "    z_scores = zscore(country_data['Diphtheria'].dropna())\n",
    "    \n",
    "    # Identify outliers within each country and print them\n",
    "    for idx, z in zip(country_data.index, z_scores):\n",
    "        if abs(z) > threshold:\n",
    "            outliers.append((country, idx, country_data.at[idx, 'Diphtheria']))\n",
    "\n",
    "# Print all identified outliers\n",
    "#print(\"Identified Outliers:\")\n",
    "#for country, idx, outlier in outliers:\n",
    "#    print(f\"Country: {country}, Index: {idx}, Outlier: {outlier}\")\n",
    "\n",
    "# Cap the outliers to the Z-score threshold\n",
    "for country in data['Country'].unique():\n",
    "    country_data = data[data['Country'] == country]\n",
    "    mean = country_data['Diphtheria'].mean()\n",
    "    std_dev = country_data['Diphtheria'].std()\n",
    "    \n",
    "    for country, idx, value in outliers:\n",
    "        if country == country_data['Country'].iloc[0]:\n",
    "            if (value - mean) / std_dev > threshold:\n",
    "                data.at[idx, 'Diphtheria'] = mean + threshold * std_dev\n",
    "            elif (value - mean) / std_dev < -threshold:\n",
    "                data.at[idx, 'Diphtheria'] = mean - threshold * std_dev\n",
    "\n",
    "# Verify the changes\n",
    "print(\"\\nAfter Outliers treatment:\")\n",
    "for country, idx, outlier in outliers:\n",
    "    new_value = data.at[idx, 'Diphtheria']\n",
    "    print(f\"Country: {country}, Index: {idx}, Original Outlier: {outlier}, New Value: {new_value}\")"
   ]
  },
  {
   "cell_type": "markdown",
   "id": "b5201d89-013e-4382-837c-8ccfd20bb5ba",
   "metadata": {
    "jp-MarkdownHeadingCollapsed": true,
    "tags": []
   },
   "source": [
    "# Preprocessing Column: Hepatitis B"
   ]
  },
  {
   "cell_type": "markdown",
   "id": "fe0b5277-1946-4370-9fd8-d2398ee20f12",
   "metadata": {
    "tags": []
   },
   "source": [
    "### Missing Value Treatment"
   ]
  },
  {
   "cell_type": "code",
   "execution_count": 537,
   "id": "8fc7f4a8-eac4-475e-ad65-3336f327b882",
   "metadata": {},
   "outputs": [
    {
     "name": "stdout",
     "output_type": "stream",
     "text": [
      "Missing values in Hepatitis B column after filling: 0\n",
      "        Country  Year  Hepatitis B  Diphtheria\n",
      "0   Afghanistan  2015         65.0        65.0\n",
      "1   Afghanistan  2014         62.0        62.0\n",
      "2   Afghanistan  2013         64.0        64.0\n",
      "3   Afghanistan  2012         67.0        67.0\n",
      "4   Afghanistan  2011         68.0        68.0\n",
      "5   Afghanistan  2010         66.0        66.0\n",
      "6   Afghanistan  2009         63.0        63.0\n",
      "7   Afghanistan  2008         64.0        64.0\n",
      "8   Afghanistan  2007         63.0        63.0\n",
      "9   Afghanistan  2006         64.0        58.0\n",
      "10  Afghanistan  2005         66.0        58.0\n",
      "11  Afghanistan  2004         67.0         5.0\n",
      "12  Afghanistan  2003         65.0        41.0\n",
      "13  Afghanistan  2002         64.0        36.0\n",
      "14  Afghanistan  2001         63.0        33.0\n",
      "15  Afghanistan  2000         62.0        24.0\n",
      "16      Albania  2015         99.0        99.0\n",
      "17      Albania  2014         98.0        98.0\n",
      "18      Albania  2013         99.0        99.0\n",
      "19      Albania  2012         99.0        99.0\n"
     ]
    }
   ],
   "source": [
    "# Prepare data for regression\n",
    "# Separate rows with and without missing values in 'Hepatitis B'\n",
    "from sklearn.linear_model import LinearRegression\n",
    "data_with_hepatitis_b = data.dropna(subset=['Hepatitis B'])\n",
    "data_without_hepatitis_b = data[data['Hepatitis B'].isnull()]\n",
    "\n",
    "# Fit a regression model\n",
    "X_train = data_with_hepatitis_b[['Diphtheria']].values  # Predictor\n",
    "y_train = data_with_hepatitis_b['Hepatitis B'].values  # Target\n",
    "\n",
    "regressor = LinearRegression()\n",
    "regressor.fit(X_train, y_train)\n",
    "\n",
    "# Predict missing values\n",
    "X_test = data_without_hepatitis_b[['Diphtheria']].values\n",
    "y_pred = regressor.predict(X_test)\n",
    "\n",
    "# Fill the missing values in the original dataframe\n",
    "data.loc[data['Hepatitis B'].isnull(), 'Hepatitis B'] = y_pred\n",
    "\n",
    "# Verify the changes\n",
    "missing_values_hepatitis_b = data['Hepatitis B'].isnull().sum()\n",
    "print(f'Missing values in Hepatitis B column after filling: {missing_values_hepatitis_b}')\n",
    "print(data[['Country', 'Year', 'Hepatitis B', 'Diphtheria']].head(20))"
   ]
  },
  {
   "cell_type": "markdown",
   "id": "57417bcf-1e88-45ec-b009-9ff702c8b9dd",
   "metadata": {
    "jp-MarkdownHeadingCollapsed": true,
    "tags": []
   },
   "source": [
    "### Outlier Treatment"
   ]
  },
  {
   "cell_type": "code",
   "execution_count": 516,
   "id": "35b76909-6c96-45f4-ac82-7cd654b6aa36",
   "metadata": {},
   "outputs": [
    {
     "name": "stdout",
     "output_type": "stream",
     "text": [
      "\n",
      "After Outliers treatment:\n",
      "Country: Argentina, Index: 87, Original Outlier: 9.0, New Value: 13.736464853162502\n",
      "Country: Armenia, Index: 111, Original Outlier: 55.0, New Value: 55.0\n",
      "Country: Barbados, Index: 222, Original Outlier: 18.0, New Value: 25.055529703257072\n",
      "Country: Belarus, Index: 239, Original Outlier: 7.0, New Value: 16.212246476894293\n",
      "Country: Belize, Index: 271, Original Outlier: 76.0, New Value: 79.31627070342363\n",
      "Country: Bolivia (Plurinational State of), Index: 316, Original Outlier: 8.0, New Value: 19.123529428726115\n",
      "Country: Botswana, Index: 348, Original Outlier: 9.0, New Value: 24.006398398337623\n",
      "Country: Bulgaria, Index: 397, Original Outlier: 88.0, New Value: 88.20714691097909\n",
      "Country: Cameroon, Index: 486, Original Outlier: 8.0, New Value: 8.0\n",
      "Country: Comoros, Index: 604, Original Outlier: 28.0, New Value: 28.0\n",
      "Country: Czechia, Index: 702, Original Outlier: 86.0, New Value: 86.0343407431904\n",
      "Country: Democratic People's Republic of Korea, Index: 717, Original Outlier: 27.0, New Value: 32.803587606114206\n",
      "Country: Ecuador, Index: 791, Original Outlier: 9.0, New Value: 9.0\n",
      "Country: El Salvador, Index: 829, Original Outlier: 9.0, New Value: 21.631432183301513\n",
      "Country: Eritrea, Index: 855, Original Outlier: 9.0, New Value: 18.743294570921634\n",
      "Country: Estonia, Index: 877, Original Outlier: 9.0, New Value: 13.217006092947074\n",
      "Country: Greece, Index: 1040, Original Outlier: 9.0, New Value: 24.580973524435777\n",
      "Country: Grenada, Index: 1053, Original Outlier: 83.0, New Value: 83.0\n",
      "Country: Guyana, Index: 1118, Original Outlier: 9.0, New Value: 21.683836550805196\n",
      "Country: Kyrgyzstan, Index: 1419, Original Outlier: 9.0, New Value: 9.0\n",
      "Country: Latvia, Index: 1445, Original Outlier: 9.0, New Value: 24.385486088736158\n",
      "Country: Luxembourg, Index: 1553, Original Outlier: 77.0, New Value: 77.56115512434398\n",
      "Country: Malawi, Index: 1583, Original Outlier: 64.0, New Value: 64.34193248990778\n",
      "Country: Mali, Index: 1627, Original Outlier: 9.0, New Value: 12.452207871531158\n",
      "Country: Malta, Index: 1635, Original Outlier: 9.0, New Value: 14.022124620956262\n",
      "Country: Morocco, Index: 1760, Original Outlier: 9.0, New Value: 12.290010672359344\n",
      "Country: Pakistan, Index: 1952, Original Outlier: 7.0, New Value: 10.500325504812565\n",
      "Country: Paraguay, Index: 2002, Original Outlier: 9.0, New Value: 15.747752828239129\n",
      "Country: Peru, Index: 2007, Original Outlier: 9.0, New Value: 12.410634570270759\n",
      "Country: Portugal, Index: 2069, Original Outlier: 7.0, New Value: 16.32948821980446\n",
      "Country: Romania, Index: 2119, Original Outlier: 9.0, New Value: 25.402692742336626\n",
      "Country: Russian Federation, Index: 2149, Original Outlier: 43.0, New Value: 49.45976505236496\n",
      "Country: Saint Lucia, Index: 2181, Original Outlier: 14.0, New Value: 22.540668784934994\n",
      "Country: Saint Vincent and the Grenadines, Index: 2196, Original Outlier: 31.0, New Value: 37.00892928332233\n",
      "Country: Senegal, Index: 2260, Original Outlier: 54.0, New Value: 54.73321816289882\n",
      "Country: Serbia, Index: 2275, Original Outlier: 65.0, New Value: 65.0\n",
      "Country: Seychelles, Index: 2295, Original Outlier: 96.0, New Value: 96.30789919314184\n",
      "Country: Sri Lanka, Index: 2453, Original Outlier: 32.0, New Value: 32.0\n",
      "Country: Uzbekistan, Index: 2839, Original Outlier: 62.0, New Value: 65.90693148507285\n"
     ]
    }
   ],
   "source": [
    "# Initialize a list to store the outliers\n",
    "outliers = []\n",
    "data = pd.read_csv(\"Life Expectancy Data 2.csv\")\n",
    "data = data.rename(columns=lambda x: x.strip())\n",
    "# Handle outliers on a country-by-country basis using Z-score\n",
    "threshold = 3 # Z-score threshold\n",
    "for country in data['Country'].unique():\n",
    "    country_data = data[data['Country'] == country]\n",
    "    \n",
    "    # Calculate Z-scores\n",
    "    z_scores = zscore(country_data['Hepatitis B'].dropna())\n",
    "    \n",
    "    # Identify outliers within each country and print them\n",
    "    for idx, z in zip(country_data.index, z_scores):\n",
    "        if abs(z) > threshold:\n",
    "            outliers.append((country, idx, country_data.at[idx, 'Hepatitis B']))\n",
    "\n",
    "# Print all identified outliers\n",
    "#print(\"Identified Outliers:\")\n",
    "#for country, idx, outlier in outliers:\n",
    "#    print(f\"Country: {country}, Index: {idx}, Outlier: {outlier}\")\n",
    "\n",
    "# Cap the outliers to the Z-score threshold\n",
    "for country in data['Country'].unique():\n",
    "    country_data = data[data['Country'] == country]\n",
    "    mean = country_data['Hepatitis B'].mean()\n",
    "    std_dev = country_data['Hepatitis B'].std()\n",
    "    \n",
    "    for country, idx, value in outliers:\n",
    "        if country == country_data['Country'].iloc[0]:\n",
    "            if (value - mean) / std_dev > threshold:\n",
    "                data.at[idx, 'Hepatitis B'] = mean + threshold * std_dev\n",
    "            elif (value - mean) / std_dev < -threshold:\n",
    "                data.at[idx, 'Hepatitis B'] = mean - threshold * std_dev\n",
    "\n",
    "# Verify the changes\n",
    "print(\"\\nAfter Outliers treatment:\")\n",
    "for country, idx, outlier in outliers:\n",
    "    new_value = data.at[idx, 'Hepatitis B']\n",
    "    print(f\"Country: {country}, Index: {idx}, Original Outlier: {outlier}, New Value: {new_value}\")\n"
   ]
  },
  {
   "cell_type": "markdown",
   "id": "50b76bba-026a-4fa6-88bc-2c15a978a800",
   "metadata": {
    "jp-MarkdownHeadingCollapsed": true,
    "tags": []
   },
   "source": [
    "# Preprocessing Column: Measles"
   ]
  },
  {
   "cell_type": "markdown",
   "id": "cf41a179-5b4e-4528-a2f6-71ebce9462ff",
   "metadata": {
    "jp-MarkdownHeadingCollapsed": true,
    "tags": []
   },
   "source": [
    "### Outlier Treatment"
   ]
  },
  {
   "cell_type": "code",
   "execution_count": 517,
   "id": "ebccac41-74f3-4444-b158-f774d1caa4ca",
   "metadata": {
    "scrolled": true,
    "tags": []
   },
   "outputs": [
    {
     "name": "stdout",
     "output_type": "stream",
     "text": [
      "\n",
      "After Outliers treatment:\n",
      "Country: Albania, Index: 31, Original Outlier: 662, New Value: 624.5393626546273\n",
      "Country: Algeria, Index: 44, Original Outlier: 15374, New Value: 15374.0\n",
      "Country: Argentina, Index: 85, Original Outlier: 17, New Value: 17.0\n",
      "Country: Bahrain, Index: 177, Original Outlier: 46, New Value: 45.84411661839542\n",
      "Country: Bangladesh, Index: 202, Original Outlier: 25934, New Value: 25934.0\n",
      "Country: Belgium, Index: 244, Original Outlier: 576, New Value: 556.0536825225698\n",
      "Country: Bolivia (Plurinational State of), Index: 319, Original Outlier: 122, New Value: 114.375\n",
      "Country: Botswana, Index: 351, Original Outlier: 2672, New Value: 2628.7286890617124\n",
      "Country: Brazil, Index: 353, Original Outlier: 876, New Value: 865.954800647971\n",
      "Country: Bulgaria, Index: 389, Original Outlier: 22004, New Value: 20738.72051942277\n",
      "Country: Burkina Faso, Index: 406, Original Outlier: 54118, New Value: 51539.73480361303\n",
      "Country: Burundi, Index: 431, Original Outlier: 18363, New Value: 17264.494497852225\n",
      "Country: Cabo Verde, Index: 463, Original Outlier: 2, New Value: 1.875\n",
      "Country: Colombia, Index: 589, Original Outlier: 139, New Value: 130.49407699001907\n",
      "Country: Comoros, Index: 602, Original Outlier: 912, New Value: 858.8165363152261\n",
      "Country: Croatia, Index: 641, Original Outlier: 206, New Value: 203.8008179186555\n",
      "Country: Czechia, Index: 690, Original Outlier: 222, New Value: 211.09071493842902\n",
      "Country: Democratic People's Republic of Korea, Index: 713, Original Outlier: 3550, New Value: 3328.17937092248\n",
      "Country: Dominican Republic, Index: 785, Original Outlier: 253, New Value: 253.0\n",
      "Country: Ecuador, Index: 790, Original Outlier: 257, New Value: 249.99153928407767\n",
      "Country: El Salvador, Index: 832, Original Outlier: 2, New Value: 1.875\n",
      "Country: Estonia, Index: 875, Original Outlier: 27, New Value: 27.0\n",
      "Country: Finland, Index: 918, Original Outlier: 27, New Value: 26.141822571962237\n",
      "Country: Gabon, Index: 960, Original Outlier: 5129, New Value: 4812.8138582743095\n",
      "Country: Guinea-Bissau, Index: 1101, Original Outlier: 3526, New Value: 3480.828093541066\n",
      "Country: Haiti, Index: 1137, Original Outlier: 992, New Value: 941.8101145965281\n",
      "Country: Hungary, Index: 1168, Original Outlier: 20, New Value: 19.420465270541744\n",
      "Country: Iraq, Index: 1240, Original Outlier: 30328, New Value: 30022.607157895516\n",
      "Country: Kazakhstan, Index: 1356, Original Outlier: 16118, New Value: 15254.411415697945\n",
      "Country: Kyrgyzstan, Index: 1410, Original Outlier: 17779, New Value: 16674.031782787515\n",
      "Country: Latvia, Index: 1443, Original Outlier: 36, New Value: 34.53173485609473\n",
      "Country: Lesotho, Index: 1479, Original Outlier: 2488, New Value: 2454.999430985084\n",
      "Country: Liberia, Index: 1505, Original Outlier: 5977, New Value: 5977.0\n",
      "Country: Malawi, Index: 1575, Original Outlier: 118712, New Value: 111306.2314102166\n",
      "Country: Mauritius, Index: 1679, Original Outlier: 777, New Value: 729.4040053716793\n",
      "Country: Micronesia (Federated States of), Index: 1700, Original Outlier: 140, New Value: 131.25\n",
      "Country: Netherlands, Index: 1831, Original Outlier: 2632, New Value: 2632.0\n",
      "Country: Norway, Index: 1914, Original Outlier: 39, New Value: 39.0\n",
      "Country: Panama, Index: 1963, Original Outlier: 4, New Value: 3.75\n",
      "Country: Peru, Index: 2007, Original Outlier: 4, New Value: 3.9614327680858596\n",
      "Country: Philippines, Index: 2024, Original Outlier: 58848, New Value: 56782.32849156296\n",
      "Country: Republic of Moldova, Index: 2116, Original Outlier: 4929, New Value: 4681.391343732224\n",
      "Country: Samoa, Index: 2205, Original Outlier: 8, New Value: 7.5588532167360825\n",
      "Country: Seychelles, Index: 2290, Original Outlier: 10, New Value: 9.422904493591965\n",
      "Country: Spain, Index: 2429, Original Outlier: 3802, New Value: 3732.9717336494973\n",
      "Country: Sri Lanka, Index: 2456, Original Outlier: 16527, New Value: 15730.153262922231\n",
      "Country: Tajikistan, Index: 2565, Original Outlier: 2144, New Value: 2144.0\n",
      "Country: The former Yugoslav republic of Macedonia, Index: 2589, Original Outlier: 701, New Value: 691.777268441193\n",
      "Country: Timor-Leste, Index: 2605, Original Outlier: 763, New Value: 744.9184430853071\n",
      "Country: Tonga, Index: 2647, Original Outlier: 4, New Value: 3.75\n",
      "Country: United States of America, Index: 2795, Original Outlier: 667, New Value: 667.0\n",
      "Country: Venezuela (Bolivarian Republic of), Index: 2871, Original Outlier: 2392, New Value: 2246.8149853753416\n",
      "Country: Zimbabwe, Index: 2927, Original Outlier: 9696, New Value: 9252.587244675853\n"
     ]
    }
   ],
   "source": [
    "# Initialize a list to store the outliers\n",
    "outliers = []\n",
    "#data = pd.read_csv(\"Life Expectancy Data 2.csv\")\n",
    "#data = data.rename(columns=lambda x: x.strip())\n",
    "# Handle outliers on a country-by-country basis using Z-score\n",
    "threshold = 3.5 # Z-score threshold\n",
    "for country in data['Country'].unique():\n",
    "    country_data = data[data['Country'] == country]\n",
    "    \n",
    "    # Calculate Z-scores\n",
    "    z_scores = zscore(country_data['Measles'].dropna())\n",
    "    \n",
    "    # Identify outliers within each country and print them\n",
    "    for idx, z in zip(country_data.index, z_scores):\n",
    "        if abs(z) > threshold:\n",
    "            outliers.append((country, idx, country_data.at[idx, 'Measles']))\n",
    "\n",
    "# Print all identified outliers\n",
    "#print(\"Identified Outliers:\")\n",
    "#for country, idx, outlier in outliers:\n",
    "#    print(f\"Country: {country}, Index: {idx}, Outlier: {outlier}\")\n",
    "\n",
    "# Cap the outliers to the Z-score threshold\n",
    "for country in data['Country'].unique():\n",
    "    country_data = data[data['Country'] == country]\n",
    "    mean = country_data['Measles'].mean()\n",
    "    std_dev = country_data['Measles'].std()\n",
    "    \n",
    "    for country, idx, value in outliers:\n",
    "        if country == country_data['Country'].iloc[0]:\n",
    "            if (value - mean) / std_dev > threshold:\n",
    "                data.at[idx, 'Measles'] = mean + threshold * std_dev\n",
    "            elif (value - mean) / std_dev < -threshold:\n",
    "                data.at[idx, 'Measles'] = mean - threshold * std_dev\n",
    "\n",
    "# Verify the changes\n",
    "print(\"\\nAfter Outliers treatment:\")\n",
    "for country, idx, outlier in outliers:\n",
    "    new_value = data.at[idx, 'Measles']\n",
    "    print(f\"Country: {country}, Index: {idx}, Original Outlier: {outlier}, New Value: {new_value}\")\n"
   ]
  },
  {
   "cell_type": "markdown",
   "id": "8d1fc8ee-67fa-4503-85d6-caf0de78caa8",
   "metadata": {
    "jp-MarkdownHeadingCollapsed": true,
    "tags": []
   },
   "source": [
    "# Preprocessing Column: BMI"
   ]
  },
  {
   "cell_type": "markdown",
   "id": "0e81f41c-d586-4fdc-b2f1-70d94ad3f561",
   "metadata": {
    "jp-MarkdownHeadingCollapsed": true,
    "tags": []
   },
   "source": [
    "### Missing Value treatment"
   ]
  },
  {
   "cell_type": "code",
   "execution_count": 518,
   "id": "88f50f2f-7126-4fe7-939b-6610181e6f28",
   "metadata": {},
   "outputs": [
    {
     "name": "stdout",
     "output_type": "stream",
     "text": [
      "Countries with all BMI values missing: ['Monaco', 'San Marino', 'South Sudan', 'Sudan']\n",
      "Missing values in BMI column after filling with median and overall median: 0\n"
     ]
    }
   ],
   "source": [
    "# Identify countries with all BMI values missing\n",
    "countries_with_all_missing_bmi = data.groupby('Country')['BMI'].apply(lambda x: x.isnull().all())\n",
    "countries_with_all_missing_bmi = countries_with_all_missing_bmi[countries_with_all_missing_bmi].index.tolist()\n",
    "print(\"Countries with all BMI values missing:\", countries_with_all_missing_bmi)\n",
    "\n",
    "\n",
    "# Calculate the overall median BMI\n",
    "overall_median_bmi = data['BMI'].median()\n",
    "\n",
    "# Fill missing BMI values for countries with all BMI values missing\n",
    "for country in countries_with_all_missing_bmi:\n",
    "    data.loc[data['Country'] == country, 'BMI'] = data.loc[data['Country'] == country, 'BMI'].fillna(overall_median_bmi)\n",
    "\n",
    "# Verify the changes\n",
    "missing_values_bmi = data['BMI'].isnull().sum()\n",
    "print(f'Missing values in BMI column after filling with median and overall median: {missing_values_bmi}')\n",
    "\n"
   ]
  },
  {
   "cell_type": "markdown",
   "id": "539780d3-68de-43b6-b419-aad0ade3c091",
   "metadata": {
    "jp-MarkdownHeadingCollapsed": true,
    "tags": []
   },
   "source": [
    "# Preprocessing Column: under-five deaths"
   ]
  },
  {
   "cell_type": "markdown",
   "id": "689b2630-efc0-4252-86c1-2f8c1ba7ac0a",
   "metadata": {
    "jp-MarkdownHeadingCollapsed": true,
    "tags": []
   },
   "source": [
    "### Outlier Treatmennt"
   ]
  },
  {
   "cell_type": "code",
   "execution_count": 519,
   "id": "9ac8e03d-4089-4301-8004-f5bb0c853a5e",
   "metadata": {},
   "outputs": [
    {
     "name": "stdout",
     "output_type": "stream",
     "text": [
      "\n",
      "After Outliers treatment:\n"
     ]
    }
   ],
   "source": [
    "# Initialize a list to store the outliers\n",
    "outliers = []\n",
    "#data = pd.read_csv(\"Life Expectancy Data 2.csv\")\n",
    "#data = data.rename(columns=lambda x: x.strip())\n",
    "# Handle outliers on a country-by-country basis using Z-score\n",
    "threshold = 4 # Z-score threshold\n",
    "for country in data['Country'].unique():\n",
    "    country_data = data[data['Country'] == country]\n",
    "    \n",
    "    # Calculate Z-scores\n",
    "    z_scores = zscore(country_data['under-five deaths'].dropna())\n",
    "    \n",
    "    # Identify outliers within each country and print them\n",
    "    for idx, z in zip(country_data.index, z_scores):\n",
    "        if abs(z) > threshold:\n",
    "            outliers.append((country, idx, country_data.at[idx, 'under-five deaths']))\n",
    "\n",
    "# Print all identified outliers\n",
    "#print(\"Identified Outliers:\")\n",
    "#for country, idx, outlier in outliers:\n",
    "#    print(f\"Country: {country}, Index: {idx}, Outlier: {outlier}\")\n",
    "\n",
    "# Cap the outliers to the Z-score threshold\n",
    "for country in data['Country'].unique():\n",
    "    country_data = data[data['Country'] == country]\n",
    "    mean = country_data['under-five deaths'].mean()\n",
    "    std_dev = country_data['under-five deaths'].std()\n",
    "    \n",
    "    for country, idx, value in outliers:\n",
    "        if country == country_data['Country'].iloc[0]:\n",
    "            if (value - mean) / std_dev > threshold:\n",
    "                data.at[idx, 'under-five deaths'] = mean + threshold * std_dev\n",
    "            elif (value - mean) / std_dev < -threshold:\n",
    "                data.at[idx, 'under-five deaths'] = mean - threshold * std_dev\n",
    "\n",
    "# Verify the changes\n",
    "print(\"\\nAfter Outliers treatment:\")\n",
    "for country, idx, outlier in outliers:\n",
    "    new_value = data.at[idx, 'under-five deaths']\n",
    "    print(f\"Country: {country}, Index: {idx}, Original Outlier: {outlier}, New Value: {new_value}\")\n"
   ]
  },
  {
   "cell_type": "markdown",
   "id": "cf5ff841-2543-4c99-93a0-a4b903565789",
   "metadata": {
    "jp-MarkdownHeadingCollapsed": true,
    "tags": []
   },
   "source": [
    "# Preprocessing Column: Polio"
   ]
  },
  {
   "cell_type": "markdown",
   "id": "6c05074e-1d1d-4bb8-a41e-98cee089c25f",
   "metadata": {
    "jp-MarkdownHeadingCollapsed": true,
    "tags": []
   },
   "source": [
    "### Missing Value Treatment"
   ]
  },
  {
   "cell_type": "code",
   "execution_count": 522,
   "id": "c90db0f1-2df7-40f0-be21-1fa15c10f76a",
   "metadata": {},
   "outputs": [
    {
     "name": "stdout",
     "output_type": "stream",
     "text": [
      "Length of y_pred: 19\n",
      "Number of missing values in Polio column: 19\n",
      "Missing values in Polio column after filling: 0\n"
     ]
    }
   ],
   "source": [
    "from sklearn.linear_model import LinearRegression\n",
    "import numpy as np\n",
    "\n",
    "# Separate the rows with and without missing Polio values\n",
    "data_with_polio = data.dropna(subset=['Polio'])\n",
    "data_without_polio = data[data['Polio'].isnull()]\n",
    "\n",
    "# Prepare the training and testing data\n",
    "X_train = data_with_polio[['Diphtheria']].values\n",
    "y_train = data_with_polio['Polio'].values\n",
    "X_test = data_without_polio[['Diphtheria']].values\n",
    "\n",
    "# Train the linear regression model\n",
    "regressor = LinearRegression()\n",
    "regressor.fit(X_train, y_train)\n",
    "\n",
    "# Predict missing values\n",
    "y_pred = regressor.predict(X_test)\n",
    "\n",
    "# Ensure the lengths match\n",
    "print(f'Length of y_pred: {len(y_pred)}')\n",
    "print(f'Number of missing values in Polio column: {data_without_polio.shape[0]}')\n",
    "\n",
    "# Fill the missing values in the original dataframe\n",
    "data.loc[data['Polio'].isnull(), 'Polio'] = y_pred\n",
    "\n",
    "# Verify the changes\n",
    "missing_values_polio = data['Polio'].isnull().sum()\n",
    "print(f'Missing values in Polio column after filling: {missing_values_polio}')\n"
   ]
  },
  {
   "cell_type": "markdown",
   "id": "22367bc9-8472-411f-afcf-1cf78e747737",
   "metadata": {
    "jp-MarkdownHeadingCollapsed": true,
    "tags": []
   },
   "source": [
    "### Outlier Treatment"
   ]
  },
  {
   "cell_type": "code",
   "execution_count": 523,
   "id": "56a023ac-20ab-4044-8d4b-e751abd303da",
   "metadata": {
    "scrolled": true,
    "tags": []
   },
   "outputs": [
    {
     "name": "stdout",
     "output_type": "stream",
     "text": [
      "\n",
      "After Outliers treatment:\n",
      "Country: Armenia, Index: 104, Original Outlier: 9.0, New Value: 13.788228323303713\n",
      "Country: Australia, Index: 127, Original Outlier: 9.0, New Value: 14.16682931514589\n",
      "Country: Bangladesh, Index: 204, Original Outlier: 9.0, New Value: 12.151034070355905\n",
      "Country: Bhutan, Index: 299, Original Outlier: 9.0, New Value: 13.605860503764461\n",
      "Country: Bolivia (Plurinational State of), Index: 309, Original Outlier: 9.0, New Value: 9.0\n",
      "Country: Canada, Index: 504, Original Outlier: 9.0, New Value: 13.24627611529796\n",
      "Country: Colombia, Index: 577, Original Outlier: 9.0, New Value: 12.675213936750055\n",
      "Country: Democratic People's Republic of Korea, Index: 720, Original Outlier: 93.0, New Value: 93.0\n",
      "Country: Denmark, Index: 742, Original Outlier: 9.0, New Value: 13.424534865681196\n",
      "Country: Dominican Republic, Index: 771, Original Outlier: 9.0, New Value: 9.0\n",
      "Country: Eritrea, Index: 855, Original Outlier: 9.0, New Value: 13.158025083890664\n",
      "Country: Georgia, Index: 985, Original Outlier: 9.0, New Value: 9.0\n",
      "Country: Greece, Index: 1040, Original Outlier: 9.0, New Value: 13.71996256474668\n",
      "Country: Guyana, Index: 1120, Original Outlier: 9.0, New Value: 12.688802745137792\n",
      "Country: Hungary, Index: 1167, Original Outlier: 98.0, New Value: 98.0625\n",
      "Country: Iceland, Index: 1171, Original Outlier: 9.0, New Value: 13.748135987771107\n",
      "Country: Ireland, Index: 1260, Original Outlier: 9.0, New Value: 12.532003277032771\n",
      "Country: Jamaica, Index: 1304, Original Outlier: 9.0, New Value: 13.254657807060553\n",
      "Country: Lebanon, Index: 1472, Original Outlier: 8.0, New Value: 11.75\n",
      "Country: Lithuania, Index: 1533, Original Outlier: 9.0, New Value: 13.983201203784262\n",
      "Country: Montenegro, Index: 1741, Original Outlier: 9.0, New Value: 12.262266317444642\n",
      "Country: Mozambique, Index: 1764, Original Outlier: 8.0, New Value: 11.008333932078365\n",
      "Country: Namibia, Index: 1811, Original Outlier: 8.0, New Value: 10.946070926012496\n",
      "Country: Nicaragua, Index: 1872, Original Outlier: 8.0, New Value: 10.572484539072605\n",
      "Country: Panama, Index: 1960, Original Outlier: 8.0, New Value: 8.683285478698622\n",
      "Country: Peru, Index: 2021, Original Outlier: 9.0, New Value: 9.0\n",
      "Country: Philippines, Index: 2033, Original Outlier: 9.0, New Value: 11.091867069582449\n",
      "Country: Republic of Korea, Index: 2098, Original Outlier: 9.0, New Value: 13.927191808195005\n",
      "Country: Rwanda, Index: 2166, Original Outlier: 9.0, New Value: 11.277593925078975\n",
      "Country: Sao Tome and Principe, Index: 2231, Original Outlier: 9.0, New Value: 13.690210074869412\n",
      "Country: Solomon Islands, Index: 2371, Original Outlier: 9.0, New Value: 11.095471975449058\n",
      "Country: Suriname, Index: 2488, Original Outlier: 7.0, New Value: 7.43227622974598\n",
      "Country: Turkmenistan, Index: 2709, Original Outlier: 66.0, New Value: 67.59259429762052\n",
      "Country: Uzbekistan, Index: 2835, Original Outlier: 94.0, New Value: 94.14107960228465\n",
      "Country: Venezuela (Bolivarian Republic of), Index: 2868, Original Outlier: 8.0, New Value: 9.112296670794322\n",
      "Country: Yemen, Index: 2900, Original Outlier: 8.0, New Value: 8.39344261103463\n"
     ]
    }
   ],
   "source": [
    "# Initialize a list to store the outliers\n",
    "outliers = []\n",
    "#data = pd.read_csv(\"Life Expectancy Data 2.csv\")\n",
    "#data = data.rename(columns=lambda x: x.strip())\n",
    "# Handle outliers on a country-by-country basis using Z-score\n",
    "threshold = 3.5 # Z-score threshold\n",
    "for country in data['Country'].unique():\n",
    "    country_data = data[data['Country'] == country]\n",
    "    \n",
    "    # Calculate Z-scores\n",
    "    z_scores = zscore(country_data['Polio'].dropna())\n",
    "    \n",
    "    # Identify outliers within each country and print them\n",
    "    for idx, z in zip(country_data.index, z_scores):\n",
    "        if abs(z) > threshold:\n",
    "            outliers.append((country, idx, country_data.at[idx, 'Polio']))\n",
    "\n",
    "# Print all identified outliers\n",
    "#print(\"Identified Outliers:\")\n",
    "#for country, idx, outlier in outliers:\n",
    "#    print(f\"Country: {country}, Index: {idx}, Outlier: {outlier}\")\n",
    "\n",
    "# Cap the outliers to the Z-score threshold\n",
    "for country in data['Country'].unique():\n",
    "    country_data = data[data['Country'] == country]\n",
    "    mean = country_data['Polio'].mean()\n",
    "    std_dev = country_data['Polio'].std()\n",
    "    \n",
    "    for country, idx, value in outliers:\n",
    "        if country == country_data['Country'].iloc[0]:\n",
    "            if (value - mean) / std_dev > threshold:\n",
    "                data.at[idx, 'Polio'] = mean + threshold * std_dev\n",
    "            elif (value - mean) / std_dev < -threshold:\n",
    "                data.at[idx, 'Polio'] = mean - threshold * std_dev\n",
    "\n",
    "# Verify the changes\n",
    "print(\"\\nAfter Outliers treatment:\")\n",
    "for country, idx, outlier in outliers:\n",
    "    new_value = data.at[idx, 'Polio']\n",
    "    print(f\"Country: {country}, Index: {idx}, Original Outlier: {outlier}, New Value: {new_value}\")\n"
   ]
  },
  {
   "cell_type": "markdown",
   "id": "a7c6dacd-c91d-4da9-a97d-127abcfe2fa2",
   "metadata": {
    "jp-MarkdownHeadingCollapsed": true,
    "tags": []
   },
   "source": [
    "# Preprocessing Column: Total expenditure"
   ]
  },
  {
   "cell_type": "markdown",
   "id": "905e69c9-c1b2-49c9-bca6-f50ed5d52dc2",
   "metadata": {
    "tags": []
   },
   "source": [
    "### Missing value Treatment:"
   ]
  },
  {
   "cell_type": "code",
   "execution_count": 542,
   "id": "e0809fba-c42b-4dfc-ab99-9ce2347d3854",
   "metadata": {},
   "outputs": [
    {
     "name": "stdout",
     "output_type": "stream",
     "text": [
      "Missing values in Alcohol column after filling: 0\n"
     ]
    }
   ],
   "source": [
    "data['Total expenditure'] = data.groupby('Country')['Total expenditure'].transform(lambda x: x.fillna(x.mean()))\n",
    "\n",
    "# Verify the changes\n",
    "missing_values_alcohol = data['Total expenditure'].isnull().sum()\n",
    "print(f'Missing values in Alcohol column after filling: {missing_values_alcohol}')"
   ]
  },
  {
   "cell_type": "code",
   "execution_count": 543,
   "id": "b37d8289-e286-422b-8a0b-0834dc982785",
   "metadata": {},
   "outputs": [
    {
     "name": "stdout",
     "output_type": "stream",
     "text": [
      "Missing values in Alcohol column after filling: 0\n"
     ]
    }
   ],
   "source": [
    "\n",
    "# Fill remaining missing values with the global mean alcohol consumption\n",
    "global_mean_alcohol = data['Total expenditure'].mean()\n",
    "data['Total expenditure'] = data['Total expenditure'].fillna(global_mean_alcohol)\n",
    "\n",
    "# Verify the changes\n",
    "missing_values_alcohol = data['Total expenditure'].isnull().sum()\n",
    "print(f'Missing values in Alcohol column after filling: {missing_values_alcohol}')"
   ]
  },
  {
   "cell_type": "markdown",
   "id": "fae322f8-ae8e-427d-9663-2192cfc5c460",
   "metadata": {
    "jp-MarkdownHeadingCollapsed": true,
    "tags": []
   },
   "source": [
    "### Outlier Treatment:"
   ]
  },
  {
   "cell_type": "code",
   "execution_count": null,
   "id": "686399bb-2837-4ae2-a5b1-c17ca0464e35",
   "metadata": {},
   "outputs": [],
   "source": [
    "# Initialize a list to store the outliers\n",
    "outliers = []\n",
    "data = pd.read_csv(\"Life Expectancy Data 2.csv\")\n",
    "data = data.rename(columns=lambda x: x.strip())\n",
    "# Handle outliers on a country-by-country basis using Z-score\n",
    "threshold = 3 # Z-score threshold\n",
    "for country in data['Country'].unique():\n",
    "    country_data = data[data['Country'] == country]\n",
    "    \n",
    "    # Calculate Z-scores\n",
    "    z_scores = zscore(country_data['Total expenditure'].dropna())\n",
    "    \n",
    "    # Identify outliers within each country and print them\n",
    "    for idx, z in zip(country_data.index, z_scores):\n",
    "        if abs(z) > threshold:\n",
    "            outliers.append((country, idx, country_data.at[idx, 'Total expenditure']))\n",
    "\n",
    "# Print all identified outliers\n",
    "#print(\"Identified Outliers:\")\n",
    "#for country, idx, outlier in outliers:\n",
    "#    print(f\"Country: {country}, Index: {idx}, Outlier: {outlier}\")\n",
    "\n",
    "# Cap the outliers to the Z-score threshold\n",
    "for country in data['Country'].unique():\n",
    "    country_data = data[data['Country'] == country]\n",
    "    mean = country_data['Total expenditure'].mean()\n",
    "    std_dev = country_data['Total expenditure'].std()\n",
    "    \n",
    "    for country, idx, value in outliers:\n",
    "        if country == country_data['Country'].iloc[0]:\n",
    "            if (value - mean) / std_dev > threshold:\n",
    "                data.at[idx, 'Total expenditure'] = mean + threshold * std_dev\n",
    "            elif (value - mean) / std_dev < -threshold:\n",
    "                data.at[idx, 'Total expenditure'] = mean - threshold * std_dev\n",
    "\n",
    "# Verify the changes\n",
    "print(\"\\nAfter Outliers treatment:\")\n",
    "for country, idx, outlier in outliers:\n",
    "    new_value = data.at[idx, 'Total expenditure']\n",
    "    print(f\"Country: {country}, Index: {idx}, Original Outlier: {outlier}, New Value: {new_value}\")\n"
   ]
  },
  {
   "cell_type": "markdown",
   "id": "57aa88b2-e362-4791-a3f8-f431a5ebdb5f",
   "metadata": {
    "jp-MarkdownHeadingCollapsed": true,
    "tags": []
   },
   "source": [
    "# Preprocessing Column: HIV/AIDS"
   ]
  },
  {
   "cell_type": "markdown",
   "id": "9abbd503-d6c5-420d-a1f6-58743fbf1a0e",
   "metadata": {
    "jp-MarkdownHeadingCollapsed": true,
    "tags": []
   },
   "source": [
    "### Outlier Treatment"
   ]
  },
  {
   "cell_type": "code",
   "execution_count": 525,
   "id": "3cbb67e0-ba34-4788-8e35-f4d015fbf705",
   "metadata": {},
   "outputs": [
    {
     "name": "stdout",
     "output_type": "stream",
     "text": [
      "\n",
      "After Outliers treatment:\n",
      "Country: Guatemala, Index: 1073, Original Outlier: 0.2, New Value: 0.20179491924311224\n",
      "Country: Mauritius, Index: 1672, Original Outlier: 0.2, New Value: 0.18125000000000005\n",
      "Country: Trinidad and Tobago, Index: 2662, Original Outlier: 2.0, New Value: 2.0\n"
     ]
    }
   ],
   "source": [
    "# Initialize a list to store the outliers\n",
    "outliers = []\n",
    "#data = pd.read_csv(\"Life Expectancy Data 2.csv\")\n",
    "#data = data.rename(columns=lambda x: x.strip())\n",
    "# Handle outliers on a country-by-country basis using Z-score\n",
    "threshold = 3 # Z-score threshold\n",
    "for country in data['Country'].unique():\n",
    "    country_data = data[data['Country'] == country]\n",
    "    \n",
    "    # Calculate Z-scores\n",
    "    z_scores = zscore(country_data['HIV/AIDS'].dropna())\n",
    "    \n",
    "    # Identify outliers within each country and print them\n",
    "    for idx, z in zip(country_data.index, z_scores):\n",
    "        if abs(z) > threshold:\n",
    "            outliers.append((country, idx, country_data.at[idx, 'HIV/AIDS']))\n",
    "\n",
    "# Print all identified outliers\n",
    "#print(\"Identified Outliers:\")\n",
    "#for country, idx, outlier in outliers:\n",
    "#    print(f\"Country: {country}, Index: {idx}, Outlier: {outlier}\")\n",
    "\n",
    "# Cap the outliers to the Z-score threshold\n",
    "for country in data['Country'].unique():\n",
    "    country_data = data[data['Country'] == country]\n",
    "    mean = country_data['HIV/AIDS'].mean()\n",
    "    std_dev = country_data['HIV/AIDS'].std()\n",
    "    \n",
    "    for country, idx, value in outliers:\n",
    "        if country == country_data['Country'].iloc[0]:\n",
    "            if (value - mean) / std_dev > threshold:\n",
    "                data.at[idx, 'HIV/AIDS'] = mean + threshold * std_dev\n",
    "            elif (value - mean) / std_dev < -threshold:\n",
    "                data.at[idx, 'HIV/AIDS'] = mean - threshold * std_dev\n",
    "\n",
    "# Verify the changes\n",
    "print(\"\\nAfter Outliers treatment:\")\n",
    "for country, idx, outlier in outliers:\n",
    "    new_value = data.at[idx, 'HIV/AIDS']\n",
    "    print(f\"Country: {country}, Index: {idx}, Original Outlier: {outlier}, New Value: {new_value}\")\n"
   ]
  },
  {
   "cell_type": "markdown",
   "id": "5eef4726-786d-4d33-adc9-99895603f0a9",
   "metadata": {
    "jp-MarkdownHeadingCollapsed": true,
    "tags": []
   },
   "source": [
    "# Preprocessing Column: GDP"
   ]
  },
  {
   "cell_type": "markdown",
   "id": "70875d2c-0664-4094-85b4-b149a5edc8b1",
   "metadata": {
    "jp-MarkdownHeadingCollapsed": true,
    "tags": []
   },
   "source": [
    "### Missing Value Treatment"
   ]
  },
  {
   "cell_type": "code",
   "execution_count": 526,
   "id": "f26236dd-ec34-4180-bbd5-4d668a9e7c82",
   "metadata": {},
   "outputs": [
    {
     "name": "stdout",
     "output_type": "stream",
     "text": [
      "Missing values in GDP column after filling: 0\n"
     ]
    }
   ],
   "source": [
    "from sklearn.linear_model import LinearRegression\n",
    "\n",
    "# Separate the data into rows with and without missing GDP values\n",
    "data_with_gdp = data.dropna(subset=['GDP'])\n",
    "data_without_gdp = data[data['GDP'].isnull()]\n",
    "\n",
    "# Define the features (percentage expenditure) and target (GDP) for the regression model\n",
    "X_train = data_with_gdp[['percentage expenditure']].values\n",
    "y_train = data_with_gdp['GDP'].values\n",
    "\n",
    "# Initialize and train the regression model\n",
    "regressor = LinearRegression()\n",
    "regressor.fit(X_train, y_train)\n",
    "\n",
    "# Predict the missing GDP values\n",
    "X_test = data_without_gdp[['percentage expenditure']].values\n",
    "y_pred = regressor.predict(X_test)\n",
    "\n",
    "# Fill the missing values in the original dataframe\n",
    "data.loc[data['GDP'].isnull(), 'GDP'] = y_pred\n",
    "\n",
    "# Verify the changes\n",
    "missing_values_gdp = data['GDP'].isnull().sum()\n",
    "print(f'Missing values in GDP column after filling: {missing_values_gdp}')\n"
   ]
  },
  {
   "cell_type": "markdown",
   "id": "9bdc5547-0406-4ef7-bca0-19619f07cce5",
   "metadata": {
    "tags": []
   },
   "source": [
    "### Outlier Treatment"
   ]
  },
  {
   "cell_type": "code",
   "execution_count": null,
   "id": "3728683c-162d-4932-b6cd-6395ce3ff515",
   "metadata": {},
   "outputs": [],
   "source": [
    "# Initialize a list to store the outliers\n",
    "outliers = []\n",
    "#data = pd.read_csv(\"Life Expectancy Data 2.csv\")\n",
    "#data = data.rename(columns=lambda x: x.strip())\n",
    "# Handle outliers on a country-by-country basis using Z-score\n",
    "threshold = 2.5 # Z-score threshold\n",
    "for country in data['Country'].unique():\n",
    "    country_data = data[data['Country'] == country]\n",
    "    \n",
    "    # Calculate Z-scores\n",
    "    z_scores = zscore(country_data['GDP'].dropna())\n",
    "    \n",
    "    # Identify outliers within each country and print them\n",
    "    for idx, z in zip(country_data.index, z_scores):\n",
    "        if abs(z) > threshold:\n",
    "            outliers.append((country, idx, country_data.at[idx, 'GDP']))\n",
    "\n",
    "# Print all identified outliers\n",
    "#print(\"Identified Outliers:\")\n",
    "#for country, idx, outlier in outliers:\n",
    "#    print(f\"Country: {country}, Index: {idx}, Outlier: {outlier}\")\n",
    "\n",
    "# Cap the outliers to the Z-score threshold\n",
    "for country in data['Country'].unique():\n",
    "    country_data = data[data['Country'] == country]\n",
    "    mean = country_data['GDP'].mean()\n",
    "    std_dev = country_data['GDP'].std()\n",
    "    \n",
    "    for country, idx, value in outliers:\n",
    "        if country == country_data['Country'].iloc[0]:\n",
    "            if (value - mean) / std_dev > threshold:\n",
    "                data.at[idx, 'GDP'] = mean + threshold * std_dev\n",
    "            elif (value - mean) / std_dev < -threshold:\n",
    "                data.at[idx, 'GDP'] = mean - threshold * std_dev\n",
    "\n",
    "# Verify the changes\n",
    "print(\"\\nAfter Outliers treatment:\")\n",
    "for country, idx, outlier in outliers:\n",
    "    new_value = data.at[idx, 'GDP']\n",
    "    print(f\"Country: {country}, Index: {idx}, Original Outlier: {outlier}, New Value: {new_value}\")\n"
   ]
  },
  {
   "cell_type": "markdown",
   "id": "39f96808-aba7-4fb3-a786-19d4f6be7ecd",
   "metadata": {
    "jp-MarkdownHeadingCollapsed": true,
    "tags": []
   },
   "source": [
    "# Preprocessing Column: Population"
   ]
  },
  {
   "cell_type": "markdown",
   "id": "b7a7ae67-fad9-449c-9d80-c6974aa6f3f4",
   "metadata": {
    "jp-MarkdownHeadingCollapsed": true,
    "tags": []
   },
   "source": [
    "### Missing Value Treatment"
   ]
  },
  {
   "cell_type": "code",
   "execution_count": 527,
   "id": "a31a59ef-aeba-4f29-b4ea-608006a28a40",
   "metadata": {},
   "outputs": [
    {
     "name": "stdout",
     "output_type": "stream",
     "text": [
      "Missing values in Population column after filling: 0\n"
     ]
    },
    {
     "name": "stderr",
     "output_type": "stream",
     "text": [
      "/var/folders/f9/vf13tj_93t78jv86r47nbqfr0000gn/T/ipykernel_70415/57887790.py:2: FutureWarning: Not prepending group keys to the result index of transform-like apply. In the future, the group keys will be included in the index, regardless of whether the applied function returns a like-indexed object.\n",
      "To preserve the previous behavior, use\n",
      "\n",
      "\t>>> .groupby(..., group_keys=False)\n",
      "\n",
      "To adopt the future behavior and silence this warning, use \n",
      "\n",
      "\t>>> .groupby(..., group_keys=True)\n",
      "  data['Population'] = data.groupby('Country')['Population'].apply(lambda group: group.interpolate(method='linear'))\n",
      "/var/folders/f9/vf13tj_93t78jv86r47nbqfr0000gn/T/ipykernel_70415/57887790.py:5: FutureWarning: Not prepending group keys to the result index of transform-like apply. In the future, the group keys will be included in the index, regardless of whether the applied function returns a like-indexed object.\n",
      "To preserve the previous behavior, use\n",
      "\n",
      "\t>>> .groupby(..., group_keys=False)\n",
      "\n",
      "To adopt the future behavior and silence this warning, use \n",
      "\n",
      "\t>>> .groupby(..., group_keys=True)\n",
      "  data['Population'] = data.groupby('Country')['Population'].apply(lambda group: group.ffill().bfill())\n"
     ]
    }
   ],
   "source": [
    "# Fill missing values using linear interpolation within each country group\n",
    "data['Population'] = data.groupby('Country')['Population'].apply(lambda group: group.interpolate(method='linear'))\n",
    "\n",
    "# Fill any remaining missing values using forward fill and backward fill within each country group\n",
    "data['Population'] = data.groupby('Country')['Population'].apply(lambda group: group.ffill().bfill())\n",
    "\n",
    "# Fill any remaining missing values with the global median population\n",
    "global_median_population = data['Population'].median()\n",
    "data['Population'] = data['Population'].fillna(global_median_population)\n",
    "\n",
    "# Verify the changes\n",
    "missing_values_population = data['Population'].isnull().sum()\n",
    "print(f'Missing values in Population column after filling: {missing_values_population}')\n"
   ]
  },
  {
   "cell_type": "markdown",
   "id": "18fb6692-c4b4-435b-8894-cbdf69867147",
   "metadata": {
    "jp-MarkdownHeadingCollapsed": true,
    "tags": []
   },
   "source": [
    "### Outlier Treatment"
   ]
  },
  {
   "cell_type": "code",
   "execution_count": 528,
   "id": "326a10d8-31a6-4fbf-9dad-cb6572ed26de",
   "metadata": {},
   "outputs": [
    {
     "name": "stdout",
     "output_type": "stream",
     "text": [
      "\n",
      "After Outliers treatment:\n",
      "Country: Chile, Index: 547, Original Outlier: 1739746.0, New Value: 1847057.1760055926\n",
      "Country: Chile, Index: 554, Original Outlier: 1614764.0, New Value: 1847057.1760055926\n",
      "Country: Greece, Index: 1031, Original Outlier: 11121341.0, New Value: 8256509.821853745\n",
      "Country: Hungary, Index: 1155, Original Outlier: 9866468.0, New Value: 9801753.67707402\n",
      "Country: Hungary, Index: 1158, Original Outlier: 9971727.0, New Value: 9801753.67707402\n",
      "Country: Maldives, Index: 1602, Original Outlier: 49163.0, New Value: 33888.35510471547\n",
      "Country: Slovenia, Index: 2357, Original Outlier: 1995733.0, New Value: 1972734.022630226\n",
      "Country: Slovenia, Index: 2360, Original Outlier: 1988925.0, New Value: 1972734.022630226\n"
     ]
    }
   ],
   "source": [
    "# Initialize a list to store the outliers\n",
    "outliers = []\n",
    "#data = pd.read_csv(\"Life Expectancy Data 2.csv\")\n",
    "#data = data.rename(columns=lambda x: x.strip())\n",
    "# Handle outliers on a country-by-country basis using Z-score\n",
    "threshold = 2.5 # Z-score threshold\n",
    "for country in data['Country'].unique():\n",
    "    country_data = data[data['Country'] == country]\n",
    "    \n",
    "    # Calculate Z-scores\n",
    "    z_scores = zscore(country_data['Population'].dropna())\n",
    "    \n",
    "    # Identify outliers within each country and print them\n",
    "    for idx, z in zip(country_data.index, z_scores):\n",
    "        if abs(z) > threshold:\n",
    "            outliers.append((country, idx, country_data.at[idx, 'Population']))\n",
    "\n",
    "# Print all identified outliers\n",
    "#print(\"Identified Outliers:\")\n",
    "#for country, idx, outlier in outliers:\n",
    "#    print(f\"Country: {country}, Index: {idx}, Outlier: {outlier}\")\n",
    "\n",
    "# Cap the outliers to the Z-score threshold\n",
    "for country in data['Country'].unique():\n",
    "    country_data = data[data['Country'] == country]\n",
    "    mean = country_data['Population'].mean()\n",
    "    std_dev = country_data['Population'].std()\n",
    "    \n",
    "    for country, idx, value in outliers:\n",
    "        if country == country_data['Country'].iloc[0]:\n",
    "            if (value - mean) / std_dev > threshold:\n",
    "                data.at[idx, 'Population'] = mean + threshold * std_dev\n",
    "            elif (value - mean) / std_dev < -threshold:\n",
    "                data.at[idx, 'Population'] = mean - threshold * std_dev\n",
    "\n",
    "# Verify the changes\n",
    "print(\"\\nAfter Outliers treatment:\")\n",
    "for country, idx, outlier in outliers:\n",
    "    new_value = data.at[idx, 'Population']\n",
    "    print(f\"Country: {country}, Index: {idx}, Original Outlier: {outlier}, New Value: {new_value}\")\n"
   ]
  },
  {
   "cell_type": "markdown",
   "id": "8f9bce3b-5348-4326-a2fb-1a1b667ce0a0",
   "metadata": {
    "jp-MarkdownHeadingCollapsed": true,
    "tags": []
   },
   "source": [
    "# Preprocessing Column: Thinness 5-9 Years"
   ]
  },
  {
   "cell_type": "markdown",
   "id": "ab0f2234-cc94-4ac1-b374-2fbbe95b690d",
   "metadata": {
    "jp-MarkdownHeadingCollapsed": true,
    "tags": []
   },
   "source": [
    "### Missing Value Treatment:"
   ]
  },
  {
   "cell_type": "code",
   "execution_count": 529,
   "id": "73b5a272-3d61-47dd-9505-1e788b7268a6",
   "metadata": {},
   "outputs": [
    {
     "name": "stdout",
     "output_type": "stream",
     "text": [
      "Countries with all thinness 5-9 years values missing: ['Monaco', 'San Marino', 'South Sudan', 'Sudan']\n",
      "Missing values in thinness 5-9 years column after filling with overall median: 0\n"
     ]
    }
   ],
   "source": [
    "# Identify countries with all Total expenditure values missing\n",
    "countries_with_all_missing_thinnessyears = data.groupby('Country')['thinness 5-9 years'].apply(lambda x: x.isnull().all())\n",
    "countries_with_all_missing_thinnessyears = countries_with_all_missing_thinnessyears[countries_with_all_missing_thinnessyears].index.tolist()\n",
    "print(\"Countries with all thinness 5-9 years values missing:\", countries_with_all_missing_thinnessyears)\n",
    "\n",
    "\n",
    "# Calculate the overall median Total expenditure\n",
    "overall_median_thinnessyears = data['thinness 5-9 years'].median()\n",
    "\n",
    "# Fill missing Total expenditure values for countries with all Total expenditure values missing\n",
    "for country in countries_with_all_missing_thinnessyears:\n",
    "    data.loc[data['Country'] == country, 'thinness 5-9 years'] = data.loc[data['Country'] == country, 'thinness 5-9 years'].fillna(overall_median_thinnessyears)\n",
    "# Fill remaining missing values in 'Thinness 5-9 years' with the global median\n",
    "data['thinness 5-9 years'] = data['thinness 5-9 years'].fillna(overall_median_thinnessyears)\n",
    "\n",
    "# Verify the changes\n",
    "missing_values_thinnessyears = data['thinness 5-9 years'].isnull().sum()\n",
    "print(f'Missing values in thinness 5-9 years column after filling with overall median: {missing_values_thinnessyears}')\n",
    "\n",
    "#overall_median_thinness_5_9 = data[' thinness 5-9 years'].median()\n",
    "\n"
   ]
  },
  {
   "cell_type": "markdown",
   "id": "c8a0cb0c-55e9-49e8-9e14-f58007b7b162",
   "metadata": {
    "jp-MarkdownHeadingCollapsed": true,
    "tags": []
   },
   "source": [
    "# Preprocessing Column: Thinness 1-19 Years"
   ]
  },
  {
   "cell_type": "markdown",
   "id": "6dac67a0-707b-4ebe-bfa2-4d5aad4d7550",
   "metadata": {
    "jp-MarkdownHeadingCollapsed": true,
    "tags": []
   },
   "source": [
    "### Missing Value Treatment"
   ]
  },
  {
   "cell_type": "code",
   "execution_count": 530,
   "id": "fcb30a36-508e-4b04-8c39-57d52c7b9985",
   "metadata": {},
   "outputs": [
    {
     "name": "stdout",
     "output_type": "stream",
     "text": [
      "Missing values in Thinness 1-19 years column after filling: 0\n"
     ]
    }
   ],
   "source": [
    "from sklearn.linear_model import LinearRegression\n",
    "import numpy as np\n",
    "\n",
    "# Separate the data into rows with and without missing 'Thinness 1-19 years' values\n",
    "data_with_thinness = data.dropna(subset=['thinness  1-19 years'])\n",
    "data_without_thinness = data[data['thinness  1-19 years'].isnull()]\n",
    "\n",
    "# Define the features (Thinness 5-9 years) and target (Thinness 1-19 years) for the regression model\n",
    "X_train = data_with_thinness[['thinness 5-9 years']].values\n",
    "y_train = data_with_thinness['thinness  1-19 years'].values\n",
    "\n",
    "# Initialize and train the regression model\n",
    "regressor = LinearRegression()\n",
    "regressor.fit(X_train, y_train)\n",
    "\n",
    "# Predict the missing 'Thinness 1-19 years' values\n",
    "X_test = data_without_thinness[['thinness 5-9 years']].values\n",
    "y_pred = regressor.predict(X_test)\n",
    "\n",
    "# Fill the missing values in the original dataframe\n",
    "data.loc[data['thinness  1-19 years'].isnull(), 'thinness  1-19 years'] = y_pred\n",
    "\n",
    "# Verify the changes\n",
    "missing_values_thinness = data['thinness  1-19 years'].isnull().sum()\n",
    "print(f'Missing values in Thinness 1-19 years column after filling: {missing_values_thinness}')\n"
   ]
  },
  {
   "cell_type": "markdown",
   "id": "0f4dfad2-8b3c-4fa4-a9fb-c9e23a1071c8",
   "metadata": {
    "jp-MarkdownHeadingCollapsed": true,
    "tags": []
   },
   "source": [
    "### Outlier Treatment"
   ]
  },
  {
   "cell_type": "code",
   "execution_count": 531,
   "id": "1172b44b-ddb2-4c9c-aa0a-b003b251365a",
   "metadata": {},
   "outputs": [
    {
     "name": "stdout",
     "output_type": "stream",
     "text": [
      "\n",
      "After Outliers treatment:\n"
     ]
    }
   ],
   "source": [
    "# Initialize a list to store the outliers\n",
    "outliers = []\n",
    "#data = pd.read_csv(\"Life Expectancy Data 2.csv\")\n",
    "#data = data.rename(columns=lambda x: x.strip())\n",
    "# Handle outliers on a country-by-country basis using Z-score\n",
    "threshold = 4 # Z-score threshold\n",
    "for country in data['Country'].unique():\n",
    "    country_data = data[data['Country'] == country]\n",
    "    \n",
    "    # Calculate Z-scores\n",
    "    z_scores = zscore(country_data['thinness  1-19 years'].dropna())\n",
    "    \n",
    "    # Identify outliers within each country and print them\n",
    "    for idx, z in zip(country_data.index, z_scores):\n",
    "        if abs(z) > threshold:\n",
    "            outliers.append((country, idx, country_data.at[idx, 'thinness  1-19 years']))\n",
    "\n",
    "# Print all identified outliers\n",
    "#print(\"Identified Outliers:\")\n",
    "#for country, idx, outlier in outliers:\n",
    "#    print(f\"Country: {country}, Index: {idx}, Outlier: {outlier}\")\n",
    "\n",
    "# Cap the outliers to the Z-score threshold\n",
    "for country in data['Country'].unique():\n",
    "    country_data = data[data['Country'] == country]\n",
    "    mean = country_data['thinness  1-19 years'].mean()\n",
    "    std_dev = country_data['thinness  1-19 years'].std()\n",
    "    \n",
    "    for country, idx, value in outliers:\n",
    "        if country == country_data['Country'].iloc[0]:\n",
    "            if (value - mean) / std_dev > threshold:\n",
    "                data.at[idx, 'thinness  1-19 years'] = mean + threshold * std_dev\n",
    "            elif (value - mean) / std_dev < -threshold:\n",
    "                data.at[idx, 'thinness  1-19 years'] = mean - threshold * std_dev\n",
    "\n",
    "# Verify the changes\n",
    "print(\"\\nAfter Outliers treatment:\")\n",
    "for country, idx, outlier in outliers:\n",
    "    new_value = data.at[idx, 'thinness  1-19 years']\n",
    "    print(f\"Country: {country}, Index: {idx}, Original Outlier: {outlier}, New Value: {new_value}\")\n"
   ]
  },
  {
   "cell_type": "markdown",
   "id": "730fb85a-8efd-4fd5-a3a8-fa9b03cb3959",
   "metadata": {
    "jp-MarkdownHeadingCollapsed": true,
    "tags": []
   },
   "source": [
    "# Preprocessing Column: Schooling"
   ]
  },
  {
   "cell_type": "markdown",
   "id": "2c52951c-001e-4cd7-8b12-1cb860abdcb8",
   "metadata": {
    "jp-MarkdownHeadingCollapsed": true,
    "tags": []
   },
   "source": [
    "### Missing Values Handling:"
   ]
  },
  {
   "cell_type": "code",
   "execution_count": 532,
   "id": "791ab397-293c-4bbb-8182-f133ce70f441",
   "metadata": {},
   "outputs": [
    {
     "name": "stdout",
     "output_type": "stream",
     "text": [
      "Missing values in Schooling column after filling with global median: 0\n"
     ]
    }
   ],
   "source": [
    "# Fill missing values in 'Schooling' using the median for each country\n",
    "data['Schooling'] = data.groupby('Country')['Schooling'].transform(lambda x: x.fillna(x.median()))\n",
    "missing_values = data['Schooling'].isnull().sum()\n",
    "\n",
    "# Fill remaining missing values in 'Schooling' with the global median\n",
    "global_median_schooling = data['Schooling'].median()\n",
    "data['Schooling'] = data['Schooling'].fillna(global_median_schooling)\n",
    "\n",
    "# Verify the changes\n",
    "missing_values_schooling = data['Schooling'].isnull().sum()\n",
    "print(f'Missing values in Schooling column after filling with global median: {missing_values_schooling}')\n"
   ]
  },
  {
   "cell_type": "markdown",
   "id": "f8ef45f5-d17a-436c-8c42-a7f28875d19e",
   "metadata": {
    "jp-MarkdownHeadingCollapsed": true,
    "tags": []
   },
   "source": [
    "### Outlier Handling"
   ]
  },
  {
   "cell_type": "code",
   "execution_count": 533,
   "id": "e82e9272-da0a-451b-a95a-f4b2376bbcdb",
   "metadata": {},
   "outputs": [
    {
     "name": "stdout",
     "output_type": "stream",
     "text": [
      "\n",
      "After Outliers treatment:\n",
      "Country: Bosnia and Herzegovina, Index: 335, Original Outlier: 0.0, New Value: 0.45299224147950845\n",
      "Country: Canada, Index: 496, Original Outlier: 16.3, New Value: 16.3\n",
      "Country: Equatorial Guinea, Index: 849, Original Outlier: 0.0, New Value: 0.4307088137481685\n",
      "Country: Micronesia (Federated States of), Index: 1714, Original Outlier: 0.0, New Value: 0.4881384190455922\n",
      "Country: Timor-Leste, Index: 2616, Original Outlier: 0.0, New Value: 0.019550571254033144\n",
      "Country: Turkmenistan, Index: 2712, Original Outlier: 0.0, New Value: 0.6288731557638698\n"
     ]
    }
   ],
   "source": [
    "# Initialize a list to store the outliers\n",
    "outliers = []\n",
    "#data = pd.read_csv(\"Life Expectancy Data 2.csv\")\n",
    "#data = data.rename(columns=lambda x: x.strip())\n",
    "# Handle outliers on a country-by-country basis using Z-score\n",
    "threshold = 3.5 # Z-score threshold\n",
    "for country in data['Country'].unique():\n",
    "    country_data = data[data['Country'] == country]\n",
    "    \n",
    "    # Calculate Z-scores\n",
    "    z_scores = zscore(country_data['Schooling'].dropna())\n",
    "    \n",
    "    # Identify outliers within each country and print them\n",
    "    for idx, z in zip(country_data.index, z_scores):\n",
    "        if abs(z) > threshold:\n",
    "            outliers.append((country, idx, country_data.at[idx, 'Schooling']))\n",
    "\n",
    "# Print all identified outliers\n",
    "#print(\"Identified Outliers:\")\n",
    "#for country, idx, outlier in outliers:\n",
    "#    print(f\"Country: {country}, Index: {idx}, Outlier: {outlier}\")\n",
    "\n",
    "# Cap the outliers to the Z-score threshold\n",
    "for country in data['Country'].unique():\n",
    "    country_data = data[data['Country'] == country]\n",
    "    mean = country_data['Schooling'].mean()\n",
    "    std_dev = country_data['Schooling'].std()\n",
    "    \n",
    "    for country, idx, value in outliers:\n",
    "        if country == country_data['Country'].iloc[0]:\n",
    "            if (value - mean) / std_dev > threshold:\n",
    "                data.at[idx, 'Schooling'] = mean + threshold * std_dev\n",
    "            elif (value - mean) / std_dev < -threshold:\n",
    "                data.at[idx, 'Schooling'] = mean - threshold * std_dev\n",
    "\n",
    "# Verify the changes\n",
    "print(\"\\nAfter Outliers treatment:\")\n",
    "for country, idx, outlier in outliers:\n",
    "    new_value = data.at[idx, 'Schooling']\n",
    "    print(f\"Country: {country}, Index: {idx}, Original Outlier: {outlier}, New Value: {new_value}\")\n"
   ]
  },
  {
   "cell_type": "markdown",
   "id": "9682a2da-eb93-46e6-b11b-be1181c5a36b",
   "metadata": {
    "jp-MarkdownHeadingCollapsed": true,
    "tags": []
   },
   "source": [
    "# Preprocessing Column: Income Composition of Resources"
   ]
  },
  {
   "cell_type": "markdown",
   "id": "ce0b9791-3fb1-46ea-9f5d-236c1ffbbf1a",
   "metadata": {
    "jp-MarkdownHeadingCollapsed": true,
    "tags": []
   },
   "source": [
    "### Missing Value Treatment"
   ]
  },
  {
   "cell_type": "code",
   "execution_count": 534,
   "id": "708b42fe-8dc4-48be-8c8e-8771ec149b55",
   "metadata": {},
   "outputs": [
    {
     "name": "stdout",
     "output_type": "stream",
     "text": [
      "Missing values in Income composition of resources column after filling: 0\n"
     ]
    }
   ],
   "source": [
    "from sklearn.linear_model import LinearRegression\n",
    "\n",
    "# Separate the data into rows with and without missing 'Income composition of resources' values\n",
    "data_with_income = data.dropna(subset=['Income composition of resources'])\n",
    "data_without_income = data[data['Income composition of resources'].isnull()]\n",
    "\n",
    "# Define the features (Schooling) and target (Income composition of resources) for the regression model\n",
    "X_train = data_with_income[['Schooling']].values\n",
    "y_train = data_with_income['Income composition of resources'].values\n",
    "\n",
    "# Initialize and train the regression model\n",
    "regressor = LinearRegression()\n",
    "regressor.fit(X_train, y_train)\n",
    "\n",
    "# Predict the missing 'Income composition of resources' values\n",
    "X_test = data_without_income[['Schooling']].values\n",
    "y_pred = regressor.predict(X_test)\n",
    "\n",
    "# Fill the missing values in the original dataframe\n",
    "data.loc[data['Income composition of resources'].isnull(), 'Income composition of resources'] = y_pred\n",
    "\n",
    "# Verify the changes\n",
    "missing_values_income = data['Income composition of resources'].isnull().sum()\n",
    "print(f'Missing values in Income composition of resources column after filling: {missing_values_income}')\n"
   ]
  },
  {
   "cell_type": "markdown",
   "id": "b61ba6c9-03db-453e-9b93-fddca39a310a",
   "metadata": {
    "tags": []
   },
   "source": [
    "### Outlier Treatment"
   ]
  },
  {
   "cell_type": "code",
   "execution_count": 535,
   "id": "e0592fb7-99a9-448d-b593-5a9c87d65ec2",
   "metadata": {},
   "outputs": [
    {
     "name": "stdout",
     "output_type": "stream",
     "text": [
      "\n",
      "After Outliers treatment:\n",
      "Country: Bahamas, Index: 175, Original Outlier: 0.0, New Value: 0.14748804195977105\n",
      "Country: Cabo Verde, Index: 463, Original Outlier: 0.0, New Value: 0.10566951424658755\n",
      "Country: Chad, Index: 543, Original Outlier: 0.0, New Value: 0.03864973131589561\n",
      "Country: Equatorial Guinea, Index: 849, Original Outlier: 0.0, New Value: 0.10339486778452439\n",
      "Country: Ethiopia, Index: 897, Original Outlier: 0.0, New Value: 0.027363882546819984\n",
      "Country: Georgia, Index: 993, Original Outlier: 0.0, New Value: 0.128262539227727\n",
      "Country: Madagascar, Index: 1569, Original Outlier: 0.0, New Value: 0.0865960754843812\n",
      "Country: Micronesia (Federated States of), Index: 1714, Original Outlier: 0.0, New Value: 0.1160103520652227\n",
      "Country: Oman, Index: 1941, Original Outlier: 0.0, New Value: 0.13495129403296402\n",
      "Country: Saint Lucia, Index: 2183, Original Outlier: 0.0, New Value: 0.12944653466468192\n",
      "Country: Saint Vincent and the Grenadines, Index: 2199, Original Outlier: 0.0, New Value: 0.1295142706808644\n",
      "Country: Seychelles, Index: 2296, Original Outlier: 0.0, New Value: 0.13452241155692868\n",
      "Country: Timor-Leste, Index: 2616, Original Outlier: 0.0, New Value: 0.06876928821724904\n",
      "Country: Uzbekistan, Index: 2841, Original Outlier: 0.0, New Value: 0.1110073171275816\n"
     ]
    }
   ],
   "source": [
    "# Initialize a list to store the outliers\n",
    "outliers = []\n",
    "#data = pd.read_csv(\"Life Expectancy Data 2.csv\")\n",
    "#data = data.rename(columns=lambda x: x.strip())\n",
    "# Handle outliers on a country-by-country basis using Z-score\n",
    "threshold = 3 # Z-score threshold\n",
    "for country in data['Country'].unique():\n",
    "    country_data = data[data['Country'] == country]\n",
    "    \n",
    "    # Calculate Z-scores\n",
    "    z_scores = zscore(country_data['Income composition of resources'].dropna())\n",
    "    \n",
    "    # Identify outliers within each country and print them\n",
    "    for idx, z in zip(country_data.index, z_scores):\n",
    "        if abs(z) > threshold:\n",
    "            outliers.append((country, idx, country_data.at[idx, 'Income composition of resources']))\n",
    "\n",
    "# Print all identified outliers\n",
    "#print(\"Identified Outliers:\")\n",
    "#for country, idx, outlier in outliers:\n",
    "#    print(f\"Country: {country}, Index: {idx}, Outlier: {outlier}\")\n",
    "\n",
    "# Cap the outliers to the Z-score threshold\n",
    "for country in data['Country'].unique():\n",
    "    country_data = data[data['Country'] == country]\n",
    "    mean = country_data['Income composition of resources'].mean()\n",
    "    std_dev = country_data['Income composition of resources'].std()\n",
    "    \n",
    "    for country, idx, value in outliers:\n",
    "        if country == country_data['Country'].iloc[0]:\n",
    "            if (value - mean) / std_dev > threshold:\n",
    "                data.at[idx, 'Income composition of resources'] = mean + threshold * std_dev\n",
    "            elif (value - mean) / std_dev < -threshold:\n",
    "                data.at[idx, 'Income composition of resources'] = mean - threshold * std_dev\n",
    "\n",
    "# Verify the changes\n",
    "print(\"\\nAfter Outliers treatment:\")\n",
    "for country, idx, outlier in outliers:\n",
    "    new_value = data.at[idx, 'Income composition of resources']\n",
    "    print(f\"Country: {country}, Index: {idx}, Original Outlier: {outlier}, New Value: {new_value}\")\n"
   ]
  },
  {
   "cell_type": "markdown",
   "id": "01c334e1-238c-4517-af55-cf2b12e68fa7",
   "metadata": {
    "tags": []
   },
   "source": [
    "# Saving preprocessing to another csv"
   ]
  },
  {
   "cell_type": "code",
   "execution_count": 551,
   "id": "7fca8ffb-8113-4d05-bdd4-bd8f1dc999e5",
   "metadata": {},
   "outputs": [],
   "source": [
    "data.to_csv(\"preprocessed_life_expectancy_data.csv\", index=False)"
   ]
  },
  {
   "cell_type": "code",
   "execution_count": null,
   "id": "46ab5fdc-9d4b-40bc-9bc6-1a52cc24fa51",
   "metadata": {},
   "outputs": [],
   "source": []
  }
 ],
 "metadata": {
  "kernelspec": {
   "display_name": "Python 3 (ipykernel)",
   "language": "python",
   "name": "python3"
  },
  "language_info": {
   "codemirror_mode": {
    "name": "ipython",
    "version": 3
   },
   "file_extension": ".py",
   "mimetype": "text/x-python",
   "name": "python",
   "nbconvert_exporter": "python",
   "pygments_lexer": "ipython3",
   "version": "3.10.9"
  }
 },
 "nbformat": 4,
 "nbformat_minor": 5
}
